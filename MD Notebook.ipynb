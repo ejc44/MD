{
 "cells": [
  {
   "cell_type": "markdown",
   "metadata": {},
   "source": [
    "# Final Project for CS 6.338\n",
    "# Emily Crabb\n",
    "\n",
    "# Parallel molecular dyanmics simulation implementation in Julia"
   ]
  },
  {
   "cell_type": "markdown",
   "metadata": {},
   "source": [
    "some sort of description of project !!!!!!!!"
   ]
  },
  {
   "cell_type": "markdown",
   "metadata": {},
   "source": [
    "Sources:\n",
    "\n",
    "https://people.sc.fsu.edu/~jburkardt/py_src/md/md.py\n",
    "\n",
    "https://www.saylor.org/site/wp-content/uploads/2011/06/MA221-6.1.pdf\n"
   ]
  },
  {
   "cell_type": "markdown",
   "metadata": {},
   "source": [
    "To do (in no particular order):\n",
    "\n",
    "Allow systems of finite size (both periodic and non-periodic)\n",
    "\n",
    "Convert to script\n",
    "\n",
    "Allow user to specify values of parameters\n",
    "\n",
    "Read initial conditions from file\n",
    "\n",
    "Save data to file\n",
    "\n",
    "Display output - manipulate doesn't work\n",
    "\n",
    "More complicated particle interactions\n"
   ]
  },
  {
   "cell_type": "code",
   "execution_count": 28,
   "metadata": {},
   "outputs": [
    {
     "data": {
      "text/plain": [
       "gen_interaction (generic function with 1 method)"
      ]
     },
     "execution_count": 28,
     "metadata": {},
     "output_type": "execute_result"
    }
   ],
   "source": [
    "# Generate strengths of interactions between particle types\n",
    "\n",
    "function gen_interaction(num_part_types)\n",
    "    interaction_params = zeros(Float64, num_part_types,num_part_types)\n",
    "    for i=1:num_part_types\n",
    "        for j = 1:num_part_types\n",
    "            if (i==j) # Self-interaction is randomly repulsive\n",
    "                interaction_params[i,j] = -1*rand(Float64)\n",
    "            elseif (i<j) # Others randomly attractive\n",
    "                val = rand(Float64)\n",
    "                interaction_params[i,j] = val\n",
    "                interaction_params[j,i] = val\n",
    "            end\n",
    "        end        \n",
    "    end\n",
    "    \n",
    "    return interaction_params\n",
    "end"
   ]
  },
  {
   "cell_type": "code",
   "execution_count": 10,
   "metadata": {},
   "outputs": [
    {
     "name": "stderr",
     "output_type": "stream",
     "text": [
      "WARNING: redefining constant interaction_params\n",
      "WARNING: redefining constant mass_parts\n"
     ]
    }
   ],
   "source": [
    "# Global constants \n",
    "# If convert to script, some should be user inputs\n",
    "\n",
    "const number_of_steps = 500; # Number of steps to execute in simulation\n",
    "const dim = 2; # Dimensions of simulation\n",
    "const box_size = 10; # Size of one side of box\n",
    "#const periodic = false; # Whether simulation is periodic\n",
    "const part_num = 100; # Number of particles in simulation\n",
    "const dt = 0.01; # Time step\n",
    "const num_part_types = 2; # Number of types of particles\n",
    "const interaction_params = gen_interaction(num_part_types); # Interations parameters for types of particles\n",
    "const mass_parts = rand(Float64, num_part_types); # Masses of types of particles\n",
    "const save_interval = 10; # How often save position"
   ]
  },
  {
   "cell_type": "code",
   "execution_count": 11,
   "metadata": {},
   "outputs": [
    {
     "data": {
      "text/plain": [
       "initialize (generic function with 1 method)"
      ]
     },
     "execution_count": 11,
     "metadata": {},
     "output_type": "execute_result"
    }
   ],
   "source": [
    "# Currently start with zero velocity and acceleration\n",
    "# Currently start with random positions and randomly assigned particle types\n",
    "\n",
    "function initialize(part_num, dim, box_size, num_part_types)\n",
    "    \n",
    "    pos = box_size*rand(Float64, part_num, dim) # Initialized to be randomly placed within a box\n",
    "    \n",
    "    vel = zeros(Float64, part_num, dim) # Initialized to zero\n",
    "    acc = zeros(Float64, part_num, dim) # Initialized to zero\n",
    "    \n",
    "    part_types = rand(1:num_part_types, part_num)\n",
    "        \n",
    "    return pos, vel, acc, part_types\n",
    "end"
   ]
  },
  {
   "cell_type": "code",
   "execution_count": 12,
   "metadata": {},
   "outputs": [
    {
     "data": {
      "text/plain": [
       "step_update (generic function with 1 method)"
      ]
     },
     "execution_count": 12,
     "metadata": {},
     "output_type": "execute_result"
    }
   ],
   "source": [
    "# Velocity Verlet Algorithm\n",
    "# Currently system size is infinite (positions not constrained)\n",
    "\n",
    "function step_update(part_num, dim, pos, vel, acc, force, part_types, mass_parts, dt)\n",
    "    \n",
    "    for i = 1:part_num # For every particle\n",
    "        mass = mass_parts[part_types[i]]\n",
    "        for j = 1:dim # For each dimension\n",
    "            pos[i,j] = pos[i,j] + vel[i,j]*dt + 0.5*acc[i,j]*dt^2 # x(t+Δt) = x(t) + v(t)Δt + 1/2*a(t)(Δt)^2\n",
    "            vel[i,j] = vel[i,j] + 0.5*(acc[i,j] + force[i,j]/mass)*dt # v(t+Δt) = v(t) + 1/2*(a(t)+a(t+Δt))Δt\n",
    "            acc[i,j] = force[i,j]/mass # a = F/m\n",
    "        end\n",
    "    end\n",
    "    \n",
    "    return pos, vel, acc\n",
    "end"
   ]
  },
  {
   "cell_type": "code",
   "execution_count": 13,
   "metadata": {},
   "outputs": [
    {
     "data": {
      "text/plain": [
       "find_force (generic function with 1 method)"
      ]
     },
     "execution_count": 13,
     "metadata": {},
     "output_type": "execute_result"
    }
   ],
   "source": [
    "# 1/r^2 interactions currently\n",
    "\n",
    "function find_force(part_num, dim, pos, vel, acc, part_types, interaction_params, mass_parts)\n",
    "    \n",
    "    force = zeros(part_num, dim)\n",
    "    \n",
    "    for i = 1:part_num # For every particle\n",
    "        mass = mass_parts[part_types[i]]\n",
    "        for k = 1:part_num # Contribution from every other particle\n",
    "            if (i != k) # No self-interaction\n",
    "                for j = 1:dim # For each dimension\n",
    "                    int_strength = interaction_params[part_types[i],part_types[k]] # Strength of interaction between particles\n",
    "                    force[i,j] = int_strength / (pos[i,j] - pos[k,j])^2 # 1/r^2 interaction\n",
    "                end\n",
    "            end\n",
    "        end\n",
    "    end\n",
    "    \n",
    "    return force\n",
    "end"
   ]
  },
  {
   "cell_type": "code",
   "execution_count": 18,
   "metadata": {},
   "outputs": [],
   "source": [
    "# Main - where program executes\n",
    "# Convert to main(args) if convert to script\n",
    "\n",
    "step = 0\n",
    "num_pos = floor(Int, number_of_steps/save_interval)+1\n",
    "saved_positions = zeros(num_pos, part_num, dim)\n",
    "save_index = 1\n",
    "\n",
    "pos, vel, acc, part_types = initialize(part_num, dim, box_size, num_part_types)\n",
    "force = find_force(part_num, dim, pos, vel, acc, part_types, interaction_params, mass_parts)\n",
    "saved_positions[1,:,:] = pos\n",
    "save_index += 1\n",
    "\n",
    "for i = 1:number_of_steps\n",
    "    pos, vel, acc = step_update(part_num, dim, pos, vel, acc, force, part_types, mass_parts, dt) \n",
    "    force = find_force(part_num, dim, pos, vel, acc, part_types, interaction_params, mass_parts)\n",
    "    if (i % save_interval == 0)\n",
    "        saved_positions[save_index,:,:] = pos\n",
    "        save_index += 1\n",
    "    end\n",
    "end\n"
   ]
  },
  {
   "cell_type": "code",
   "execution_count": 19,
   "metadata": {},
   "outputs": [
    {
     "data": {
      "text/plain": [
       "Plots.PlotlyBackend()"
      ]
     },
     "execution_count": 19,
     "metadata": {},
     "output_type": "execute_result"
    }
   ],
   "source": [
    "#Pkg.add(\"Plots\")\n",
    "using Plots\n",
    "plotly()"
   ]
  },
  {
   "cell_type": "code",
   "execution_count": 30,
   "metadata": {},
   "outputs": [],
   "source": [
    "#plot(pos[:,1],pos[:,2], seriestype=:scatter)"
   ]
  },
  {
   "cell_type": "code",
   "execution_count": 32,
   "metadata": {},
   "outputs": [
    {
     "data": {
      "text/html": [
       "<div id=\"interact-js-shim\">\n",
       "    <script charset=\"utf-8\">\r\n",
       "(function (IPython, $, _, MathJax) {\r\n",
       "    $.event.special.destroyed = {\r\n",
       "\tremove: function(o) {\r\n",
       "\t    if (o.handler) {\r\n",
       "\t\to.handler.apply(this, arguments)\r\n",
       "\t    }\r\n",
       "\t}\r\n",
       "    }\r\n",
       "\r\n",
       "    var OutputArea = IPython.version >= \"4.0.0\" ? require(\"notebook/js/outputarea\").OutputArea : IPython.OutputArea;\r\n",
       "\r\n",
       "    var redrawValue = function (container, type, val) {\r\n",
       "\tvar selector = $(\"<div/>\");\r\n",
       "\tvar oa = new OutputArea(_.extend(selector, {\r\n",
       "\t    selector: selector,\r\n",
       "\t    prompt_area: true,\r\n",
       "\t    events: IPython.events,\r\n",
       "\t    keyboard_manager: IPython.keyboard_manager\r\n",
       "\t})); // Hack to work with IPython 2.1.0\r\n",
       "\r\n",
       "\tswitch (type) {\r\n",
       "\tcase \"image/png\":\r\n",
       "            var _src = 'data:' + type + ';base64,' + val;\r\n",
       "\t    $(container).find(\"img\").attr('src', _src);\r\n",
       "\t    break;\r\n",
       "\tcase \"text/latex\":\r\n",
       "\t\tif (MathJax){\r\n",
       "\t\t\tvar math = MathJax.Hub.getAllJax(container)[0];\r\n",
       "\t\t\tMathJax.Hub.Queue([\"Text\", math, val.replace(/^\\${1,2}|\\${1,2}$/g, '')]);\r\n",
       "\t\t\tbreak;\r\n",
       "\t\t}\r\n",
       "\tdefault:\r\n",
       "\t    var toinsert = OutputArea.append_map[type].apply(\r\n",
       "\t\toa, [val, {}, selector]\r\n",
       "\t    );\r\n",
       "\t    $(container).empty().append(toinsert.contents());\r\n",
       "\t    selector.remove();\r\n",
       "\t}\r\n",
       "    }\r\n",
       "\r\n",
       "\r\n",
       "    $(document).ready(function() {\r\n",
       "\tfunction initComm(evt, data) {\r\n",
       "\t    var comm_manager = data.kernel.comm_manager;\r\n",
       "        //_.extend(comm_manager.targets, require(\"widgets/js/widget\"))\r\n",
       "\t    comm_manager.register_target(\"Signal\", function (comm) {\r\n",
       "            comm.on_msg(function (msg) {\r\n",
       "                var val = msg.content.data.value;\r\n",
       "                $(\".signal-\" + comm.comm_id).each(function() {\r\n",
       "                var type = $(this).data(\"type\");\r\n",
       "                if (typeof(val[type]) !== \"undefined\" && val[type] !== null) {\r\n",
       "                    redrawValue(this, type, val[type], type);\r\n",
       "                }\r\n",
       "                });\r\n",
       "                delete val;\r\n",
       "                delete msg.content.data.value;\r\n",
       "            });\r\n",
       "\t    });\r\n",
       "\r\n",
       "\t    // coordingate with Comm and redraw Signals\r\n",
       "\t    // XXX: Test using Reactive here to improve performance\r\n",
       "\t    $([IPython.events]).on(\r\n",
       "\t\t'output_appended.OutputArea', function (event, type, value, md, toinsert) {\r\n",
       "\t\t    if (md && md.reactive) {\r\n",
       "                // console.log(md.comm_id);\r\n",
       "                toinsert.addClass(\"signal-\" + md.comm_id);\r\n",
       "                toinsert.data(\"type\", type);\r\n",
       "                // Signal back indicating the mimetype required\r\n",
       "                var comm_manager = IPython.notebook.kernel.comm_manager;\r\n",
       "                var comm = comm_manager.comms[md.comm_id];\r\n",
       "                comm.then(function (c) {\r\n",
       "                    c.send({action: \"subscribe_mime\",\r\n",
       "                       mime: type});\r\n",
       "                    toinsert.bind(\"destroyed\", function() {\r\n",
       "                        c.send({action: \"unsubscribe_mime\",\r\n",
       "                               mime: type});\r\n",
       "                    });\r\n",
       "                })\r\n",
       "\t\t    }\r\n",
       "\t    });\r\n",
       "\t}\r\n",
       "\r\n",
       "\ttry {\r\n",
       "\t    // try to initialize right away. otherwise, wait on the status_started event.\r\n",
       "\t    initComm(undefined, IPython.notebook);\r\n",
       "\t} catch (e) {\r\n",
       "\t    $([IPython.events]).on('kernel_created.Kernel kernel_created.Session', initComm);\r\n",
       "\t}\r\n",
       "    });\r\n",
       "})(IPython, jQuery, _, MathJax);\r\n",
       "</script>\n",
       "    <script>\n",
       "        window.interactLoadedFlag = true\n",
       "       $(\"#interact-js-shim\").bind(\"destroyed\", function () {\n",
       "           if (window.interactLoadedFlag) {\n",
       "               console.warn(\"JavaScript required by Interact will be removed if you remove this cell or run using Interact more than once.\")\n",
       "           }\n",
       "       })\n",
       "       $([IPython.events]).on(\"kernel_starting.Kernel kernel_restarting.Kernel\", function () { window.interactLoadedFlag = false })\n",
       "   </script>\n",
       "</div>"
      ]
     },
     "metadata": {},
     "output_type": "display_data"
    }
   ],
   "source": [
    "#Pkg.add(\"Interact\")\n",
    "using Interact"
   ]
  },
  {
   "cell_type": "code",
   "execution_count": 36,
   "metadata": {},
   "outputs": [
    {
     "data": {
      "application/vnd.jupyter.widget-view+json": {
       "model_id": "e6beeffb-588e-453d-8b6d-5443e01220be",
       "version_major": 2,
       "version_minor": 0
      }
     },
     "metadata": {},
     "output_type": "display_data"
    },
    {
     "data": {
      "text/html": [],
      "text/plain": [
       "Interact.Options{:SelectionSlider,Any}(11: \"input-4\" = 26 Any , \"index\", 26, \"26\", 26, Interact.OptionDict(DataStructures.OrderedDict{Any,Any}(\"1\"=>1,\"2\"=>2,\"3\"=>3,\"4\"=>4,\"5\"=>5,\"6\"=>6,\"7\"=>7,\"8\"=>8,\"9\"=>9,\"10\"=>10…), Dict{Any,Any}(Pair{Any,Any}(2, \"2\"),Pair{Any,Any}(11, \"11\"),Pair{Any,Any}(39, \"39\"),Pair{Any,Any}(46, \"46\"),Pair{Any,Any}(25, \"25\"),Pair{Any,Any}(42, \"42\"),Pair{Any,Any}(29, \"29\"),Pair{Any,Any}(8, \"8\"),Pair{Any,Any}(20, \"20\"),Pair{Any,Any}(14, \"14\")…)), Any[], Any[], true, \"horizontal\")"
      ]
     },
     "metadata": {},
     "output_type": "display_data"
    },
    {
     "data": {
      "text/html": [
       "<script src=\"C:\\Users\\emily\\.julia\\v0.6\\Plots\\src\\backends\\..\\..\\deps\\plotly-latest.min.js\"></script>    <div id=\"2fcff919-bd67-448e-ba3a-f549f7825f40\" style=\"width:600px;height:400px;\"></div>\n",
       "    <script>\n",
       "    PLOT = document.getElementById('2fcff919-bd67-448e-ba3a-f549f7825f40');\n",
       "    Plotly.plot(PLOT, [{\"showlegend\":true,\"mode\":\"markers\",\"xaxis\":\"x\",\"colorbar\":{\"title\":\"\"},\"marker\":{\"symbol\":\"circle\",\"color\":\"rgba(0, 154, 250, 1.000)\",\"line\":{\"color\":\"rgba(0, 0, 0, 1.000)\",\"width\":1},\"size\":8},\"y\":[1.5109315867148325,25.69496325908825,2.245989387617856,0.8794369490796589,6.7537988262036714,35.362367277710725,1331.3848800180683,2.853155974427572,3.2340056045583565,25.57293450250193,2.131620807779353,3.5833415488202003,30.46811436213202,1.7839761730421868,56.59007346497455,25.594471432726927,2.803451267475543,4.2455920000307374,3.039240808747298,4.150436518131364,4.159784074355618,4.259213002717624,8.223607111346798,185.38844800876353,2.5358670695289818,40.597277272596095,8.711312354347287,3.7007732507463453,21.41781740875197,1.8381127635900847,26.48842743119362,614.250848838232,26.063544482054724,25.568256683131985,141.62307839079682,9.86036865061584,587.1044868338582,25.098884354180914,5.029870226496778,4.453297909805023,5.03356049604434,2.888736294979309,11.674478867839946,21.55977453190264,3.788586979417045,1.1094451681287316,2761.4458614220725,4.945575085631805,7.9731415885607255,220.2332819735912,58.80620130441958,549.7991632429536,26.099896243690775,3.0780406046951367,4.1130458442830875,3.1234539218853707,7.833032788062918,4.60346401086421,5.539722464425207,298.8849652327505,1.0847565331098055,24.63649239584868,137.57771156471807,119.79673686552614,1198.5849379051908,0.9600604645125304,7.999984283678917,6.695778228248991,179.18799682207572,25.566912140507764,11.225891213335727,10.379167021966284,225.24074244791632,6.666071578068416,16.017250944089444,2.363402264955234,1.7671284597407622,429078.5999948719,11.891604438017291,24.737622644943862,2.8966396299231656,9.938596016311614,36.716072321750126,4.537043061223595,783.0846403422039,3755.7744918281137,3.8919843959069476,4.627181152124219,5.255893127226482,25.474054591011768,266.1278305505234,4.9443030926854545,3.387281800277471,14.052258224929057,5.978677119980446,9.040287934731364,1.6883966110793214,3.844247631017002,21.441825338163508,23.247938026793957],\"type\":\"scatter\",\"name\":\"y1\",\"yaxis\":\"y\",\"x\":[19.382223927703464,11.744788856892898,253.91032874409822,12.404409779629166,6.789996136742148,25.207126467558766,378.26742452122625,205.6125285356645,13.082796874133699,27.466793401648093,13.612722475573973,12.19424012913165,309.2025199380226,12.154080653359728,14.312328827423237,222.73852380888366,11802.907314873162,778.0845764666481,402.2171018497062,11.845665307055292,132.56247068465586,11.852219163871425,11.744675076062453,169.21690244270445,23.692295248395002,366.74943057415004,11.911018194258565,18.927855164236362,16.796319757665835,21.26950563014823,179.1356457779603,20.081971701387335,42.09058301065977,13.160564671794123,34.75119844879409,152.10353230729848,1333.4474995119285,244.40106757662076,13.575812317495469,176.04217870139524,948.0381104904277,11.750899502859271,18.439766951499376,159.4420881953115,3.3623345977243253,5885.419806203387,42.29023810323259,5194.0212163072565,549.5506311607359,412.4256231363354,22.280898585176534,13.197314362254678,14.303263807708248,21.803736147145457,174.0481698430771,137.6347406902755,4.661326617950862,11.763057815350288,19.59760351715121,13.34643517830966,197.95864313126685,11.74369559229536,26.043516758801413,27.348184010148472,550.2455383927768,30.32296217403158,155.18958362098368,35.09951388122505,5.496167661271053,305.0461972552462,603.8362973595448,14.71437854653534,104.44872768881912,49.157043669767866,13.089747086655075,64.62782766569754,6.4473549080519446,11.857236798761548,17.28050579672159,4.215995092267772,13.081985943147098,79.33851691319482,20.815790710942192,20.915075258607423,642.1870879518962,11.811757746856554,11.788580449256731,369.9131365284531,171.23376901474364,14.765006169532892,6.812758912976057,232.60219791392453,12.632234883593593,136.87955973902965,247.86234049173643,7.107538374252925,195.24438213617628,30.342223353674786,3.9699626593216917,7.890186214337554]}], {\"showlegend\":true,\"xaxis\":{\"gridwidth\":0.5,\"tickvals\":[0.0,2500.0,5000.0,7500.0,10000.0],\"visible\":true,\"ticks\":\"inside\",\"tickmode\":\"array\",\"domain\":[0.09545056867891513,0.9934383202099738],\"linecolor\":\"rgba(0, 0, 0, 1.000)\",\"showgrid\":true,\"title\":\"\",\"mirror\":false,\"tickangle\":0,\"showline\":true,\"gridcolor\":\"rgba(0, 0, 0, 0.100)\",\"titlefont\":{\"color\":\"rgba(0, 0, 0, 1.000)\",\"family\":\"sans-serif\",\"size\":15},\"tickcolor\":\"rgb(0, 0, 0)\",\"ticktext\":[\"0\",\"2500\",\"5000\",\"7500\",\"10000\"],\"zeroline\":false,\"type\":\"-\",\"tickfont\":{\"color\":\"rgba(0, 0, 0, 1.000)\",\"family\":\"sans-serif\",\"size\":11},\"zerolinecolor\":\"rgba(0, 0, 0, 1.000)\",\"anchor\":\"y\"},\"paper_bgcolor\":\"rgba(255, 255, 255, 1.000)\",\"annotations\":[],\"height\":400,\"margin\":{\"l\":0,\"b\":20,\"r\":0,\"t\":20},\"plot_bgcolor\":\"rgba(255, 255, 255, 1.000)\",\"yaxis\":{\"gridwidth\":0.5,\"tickvals\":[0.0,100000.0,200000.0,300000.0,400000.0],\"visible\":true,\"ticks\":\"inside\",\"tickmode\":\"array\",\"domain\":[0.03762029746281716,0.9901574803149606],\"linecolor\":\"rgba(0, 0, 0, 1.000)\",\"showgrid\":true,\"title\":\"\",\"mirror\":false,\"tickangle\":0,\"showline\":true,\"gridcolor\":\"rgba(0, 0, 0, 0.100)\",\"titlefont\":{\"color\":\"rgba(0, 0, 0, 1.000)\",\"family\":\"sans-serif\",\"size\":15},\"tickcolor\":\"rgb(0, 0, 0)\",\"ticktext\":[\"0\",\"100000\",\"200000\",\"300000\",\"400000\"],\"zeroline\":false,\"type\":\"-\",\"tickfont\":{\"color\":\"rgba(0, 0, 0, 1.000)\",\"family\":\"sans-serif\",\"size\":11},\"zerolinecolor\":\"rgba(0, 0, 0, 1.000)\",\"anchor\":\"x\"},\"legend\":{\"bordercolor\":\"rgba(0, 0, 0, 1.000)\",\"bgcolor\":\"rgba(255, 255, 255, 1.000)\",\"font\":{\"color\":\"rgba(0, 0, 0, 1.000)\",\"family\":\"sans-serif\",\"size\":11},\"y\":1.0,\"x\":1.0},\"width\":600});\n",
       "    </script>\n"
      ]
     },
     "execution_count": 36,
     "metadata": {
      "comm_id": "f982a2b2-3972-418f-94c4-7e7d61067602",
      "reactive": true
     },
     "output_type": "execute_result"
    }
   ],
   "source": [
    "@manipulate for index=1:num_pos\n",
    "    plot(saved_positions[index,:,1],saved_positions[index,:,2], seriestype=:scatter)    \n",
    "end"
   ]
  },
  {
   "cell_type": "code",
   "execution_count": null,
   "metadata": {
    "collapsed": true
   },
   "outputs": [],
   "source": []
  }
 ],
 "metadata": {
  "kernelspec": {
   "display_name": "Julia 0.6.0",
   "language": "julia",
   "name": "julia-0.6"
  },
  "language_info": {
   "file_extension": ".jl",
   "mimetype": "application/julia",
   "name": "julia",
   "version": "0.6.0"
  }
 },
 "nbformat": 4,
 "nbformat_minor": 2
}
