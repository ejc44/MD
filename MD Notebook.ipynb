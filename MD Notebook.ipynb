{
 "cells": [
  {
   "cell_type": "markdown",
   "metadata": {},
   "source": [
    "# Final Project for CS 6.338\n",
    "# Emily Crabb\n",
    "\n",
    "# Parallel molecular dyanmics simulation implementation in Julia"
   ]
  },
  {
   "cell_type": "markdown",
   "metadata": {},
   "source": [
    "some sort of description of project !!!!!!!!"
   ]
  },
  {
   "cell_type": "markdown",
   "metadata": {},
   "source": [
    "Sources:\n",
    "\n",
    "https://people.sc.fsu.edu/~jburkardt/py_src/md/md.py\n",
    "\n",
    "https://www.saylor.org/site/wp-content/uploads/2011/06/MA221-6.1.pdf\n"
   ]
  },
  {
   "cell_type": "markdown",
   "metadata": {},
   "source": [
    "To do (in no particular order):\n",
    "\n",
    "Add parallelism - high priority\n",
    "\n",
    "Convert to script - important for analysis\n",
    "\n",
    "Allow user to specify values of parameters - lower priority\n",
    "\n",
    "Read initial conditions from file - lower priority\n",
    "\n",
    "Save data to file - some already done but isn't enough to restart probably - lower priority but is easy\n",
    "\n",
    "Display output - manipulate doesn't work - medium priority\n"
   ]
  },
  {
   "cell_type": "code",
   "execution_count": 1,
   "metadata": {},
   "outputs": [
    {
     "data": {
      "text/plain": [
       "gen_interaction (generic function with 1 method)"
      ]
     },
     "execution_count": 1,
     "metadata": {},
     "output_type": "execute_result"
    }
   ],
   "source": [
    "# Generate strengths of interactions between particle types\n",
    "# Very simple but user could replace with anything they wanted\n",
    "\n",
    "function gen_interaction(num_part_types)\n",
    "    interaction_params = zeros(Float64, num_part_types,num_part_types)\n",
    "    for i=1:num_part_types\n",
    "        for j = 1:num_part_types\n",
    "            if (i==j) # Self-interaction is randomly repulsive\n",
    "                interaction_params[i,j] = -1*rand(Float64)\n",
    "            elseif (i<j) # Others randomly attractive\n",
    "                val = rand(Float64)\n",
    "                interaction_params[i,j] = val\n",
    "                interaction_params[j,i] = val\n",
    "            end\n",
    "        end        \n",
    "    end\n",
    "    \n",
    "    return interaction_params\n",
    "end"
   ]
  },
  {
   "cell_type": "code",
   "execution_count": 27,
   "metadata": {},
   "outputs": [
    {
     "name": "stderr",
     "output_type": "stream",
     "text": [
      "WARNING: redefining constant periodic\n",
      "WARNING: redefining constant interaction_params\n",
      "WARNING: redefining constant mass_parts\n"
     ]
    }
   ],
   "source": [
    "# Global constants \n",
    "# If convert to script, some should be user inputs\n",
    "\n",
    "const number_of_steps = 10000; # Number of steps to execute in simulation\n",
    "const dim = 2; # Dimensions of simulation\n",
    "const box_size = 10; # Size of one side of box\n",
    "const finite_box = true; # Whether box if finite or just where particles are initially placed\n",
    "const periodic = true; # Whether simulation is periodic\n",
    "const part_num = 100; # Number of particles in simulation\n",
    "const dt = 0.01; # Time step\n",
    "const num_part_types = 2; # Number of types of particles\n",
    "const interaction_params = gen_interaction(num_part_types); # Interations parameters for types of particles\n",
    "const mass_parts = rand(Float64, num_part_types); # Masses of types of particles\n",
    "const save_interval = 10; # How often save position\n",
    "const save_data = false; # Whether to save data to file so can restart"
   ]
  },
  {
   "cell_type": "code",
   "execution_count": 3,
   "metadata": {},
   "outputs": [
    {
     "data": {
      "text/plain": [
       "initialize (generic function with 1 method)"
      ]
     },
     "execution_count": 3,
     "metadata": {},
     "output_type": "execute_result"
    }
   ],
   "source": [
    "# Initialize position, velocity, acceleration, and particle type\n",
    "# Currently start with zero velocity and acceleration\n",
    "# Currently start with random positions and randomly assigned particle types\n",
    "\n",
    "function initialize(part_num, dim, box_size, num_part_types)\n",
    "    \n",
    "    pos = box_size*rand(Float64, part_num, dim) # Initialized to be randomly placed within a box\n",
    "    \n",
    "    vel = zeros(Float64, part_num, dim) # Initialized to zero\n",
    "    acc = zeros(Float64, part_num, dim) # Initialized to zero\n",
    "    \n",
    "    part_types = rand(1:num_part_types, part_num) # Randomly assign type of each particle\n",
    "        \n",
    "    return pos, vel, acc, part_types\n",
    "end"
   ]
  },
  {
   "cell_type": "code",
   "execution_count": 4,
   "metadata": {},
   "outputs": [
    {
     "data": {
      "text/plain": [
       "step_update (generic function with 1 method)"
      ]
     },
     "execution_count": 4,
     "metadata": {},
     "output_type": "execute_result"
    }
   ],
   "source": [
    "# Update position, velocity, and acceleration using Velocity Verlet Algorithm\n",
    "# Currently system size is infinite (positions not constrained)\n",
    "\n",
    "function step_update(part_num, dim, pos, vel, acc, force, part_types, mass_parts, dt, box_size, finite_box, periodic)\n",
    "    \n",
    "    for i = 1:part_num # For every particle\n",
    "        mass = mass_parts[part_types[i]]\n",
    "        for j = 1:dim # For each dimension\n",
    "            pos[i,j] = pos[i,j] + vel[i,j]*dt + 0.5*acc[i,j]*dt^2 # x(t+Δt) = x(t) + v(t)Δt + 1/2*a(t)(Δt)^2\n",
    "            vel[i,j] = vel[i,j] + 0.5*(acc[i,j] + force[i,j]/mass)*dt # v(t+Δt) = v(t) + 1/2*(a(t)+a(t+Δt))Δt\n",
    "            acc[i,j] = force[i,j]/mass # a = F/m\n",
    "            \n",
    "            if (finite_box) # If finite box, check are still inside and correct if not\n",
    "                if (periodic) # For periodic, just change position to be in box\n",
    "                    if (pos[i,j] < 0) # If no longer in box\n",
    "                        pos[i,j] = box_size + (pos[i,j] % box_size)\n",
    "                    elseif (pos[i,j] > box_size) # If no longer in box\n",
    "                        pos[i,j] = pos[i,j] % box_size                        \n",
    "                    end\n",
    "                else # If not periodic, more complicated - reflects off walls\n",
    "                    if (pos[i,j] < 0) # If no longer in box\n",
    "                        pos[i,j] = -1*(pos[i,j])\n",
    "                    elseif (pos[i,j] > box_size) # If no longer in box\n",
    "                        pos[i,j] = box_size - pos[i,j]\n",
    "                    end\n",
    "                    vel[i,j] = -1*(vel[i,j])\n",
    "                    acc[i,j] = -1*(acc[i,j])\n",
    "                end\n",
    "            end\n",
    "        end\n",
    "    end\n",
    "    \n",
    "    return pos, vel, acc\n",
    "end"
   ]
  },
  {
   "cell_type": "code",
   "execution_count": 34,
   "metadata": {},
   "outputs": [
    {
     "data": {
      "text/plain": [
       "find_force (generic function with 1 method)"
      ]
     },
     "execution_count": 34,
     "metadata": {},
     "output_type": "execute_result"
    }
   ],
   "source": [
    "# Find force on each particle\n",
    "# 1/r^2 interactions currently\n",
    "# Again, very simple but user can replace with anything they want\n",
    "\n",
    "function find_force(part_num, dim, pos, vel, acc, part_types, interaction_params, mass_parts)\n",
    "    \n",
    "    force = zeros(part_num, dim)\n",
    "    \n",
    "    for i = 1:part_num # For every particle\n",
    "        mass = mass_parts[part_types[i]]\n",
    "        for k = 1:part_num # Contribution from every other particle\n",
    "            if (i != k) # No self-interaction\n",
    "                for j = 1:dim # For each dimension\n",
    "                    int_strength = interaction_params[part_types[i],part_types[k]] # Strength of interaction between particles\n",
    "                    if (pos[i,j] > pos[k,j])\n",
    "                       int_strength = -1*int_strength # Reverses direction of force if positions flopped\n",
    "                    end\n",
    "\n",
    "                    # Find distance between particles\n",
    "                    dist = 0.0\n",
    "                    if (periodic) # If periodic, check whether a periodic distance is shorter\n",
    "                        dist = abs(pos[i,j] - pos[k,j])\n",
    "                        if (pos[i,j] < pos[k,j])\n",
    "                            new_dist = abs(box_size + pos[i,j] - pos[k,j])\n",
    "                            if new_dist > dist\n",
    "                                dist = new_dist\n",
    "                                int_strength = -1*int_strength # Reverses direction of force\n",
    "                            end\n",
    "                        else\n",
    "                            new_dist = abs(box_size + pos[k,j] - pos[i,j])\n",
    "                            if new_dist > dist\n",
    "                                dist = new_dist\n",
    "                                int_strength = -1*int_strength # Reverses direction of force\n",
    "                            end\n",
    "                        end\n",
    "                        else # Otherwise, just regular distance\n",
    "                        dist = abs(pos[i,j] - pos[k,j])\n",
    "                    end\n",
    "                    \n",
    "                    force[i,j] = int_strength / dist^2 # 1/r^2 interaction\n",
    "                end\n",
    "            end\n",
    "        end\n",
    "    end\n",
    "    \n",
    "    return force\n",
    "end"
   ]
  },
  {
   "cell_type": "code",
   "execution_count": 6,
   "metadata": {},
   "outputs": [
    {
     "data": {
      "text/plain": [
       "write_output (generic function with 1 method)"
      ]
     },
     "execution_count": 6,
     "metadata": {},
     "output_type": "execute_result"
    }
   ],
   "source": [
    "# Write each variable to its own output file in current diretory\n",
    "# May need to add more imfo if want to restart\n",
    "\n",
    "function write_output(part_num, dim, part_types, interaction_params, mass_parts, dt, saved_positions, saved_velocities, saved_accelerations, saved_forces) \n",
    "    writedlm(\"part_num.txt\", part_num)\n",
    "    writedlm(\"dim.txt\", dim)\n",
    "    writedlm(\"part_types.txt\", part_types)\n",
    "    writedlm(\"interaction_params.txt\", interaction_params)\n",
    "    writedlm(\"mass_parts.txt\", mass_parts)\n",
    "    writedlm(\"dt.txt\", dt)\n",
    "    writedlm(\"saved_positions.txt\", saved_positions)\n",
    "    writedlm(\"saved_velocities.txt\", saved_velocities)\n",
    "    writedlm(\"saved_accelerations.txt\", saved_accelerations)\n",
    "    writedlm(\"saved_forces.txt\", saved_forces)\n",
    "end"
   ]
  },
  {
   "cell_type": "code",
   "execution_count": 35,
   "metadata": {},
   "outputs": [],
   "source": [
    "# Main - where program executes\n",
    "# Convert to main(args) if convert to script\n",
    "\n",
    "# Set up matrices to save positions, velocities, and accelerations into\n",
    "num_pos = floor(Int, number_of_steps/save_interval)+1 # Number of positions to save\n",
    "saved_positions = zeros(num_pos, part_num, dim) # Save positions with specified frequency\n",
    "if (save_data) # Only save vel, acc, and force if plan on saving to file\n",
    "    saved_velocities = zeros(num_pos, part_num, dim) # Save velocities with specified frequency\n",
    "    saved_accelerations = zeros(num_pos, part_num, dim) # Save accelerations with specified frequency\n",
    "    saved_forces = zeros(num_pos, part_num, dim) # Save forces with specified frequency\n",
    "end\n",
    "save_index = 1 # Keep track of index so can save positions with specified frequency\n",
    "\n",
    "pos, vel, acc, part_types = initialize(part_num, dim, box_size, num_part_types) # Initialize\n",
    "force = find_force(part_num, dim, pos, vel, acc, part_types, interaction_params, mass_parts) # Find forces on particles\n",
    "saved_positions[save_index,:,:] = pos # Save position\n",
    "if (save_data) # Only save vel, acc, and force if plan on saving to file\n",
    "    saved_velocities[save_index,:,:] = vel # Save velocity\n",
    "    saved_accelerations[save_index,:,:] = acc # Save accelerations\n",
    "    saved_forces[save_index,:,:] = force # Save forces\n",
    "end\n",
    "save_index += 1 # Increment index\n",
    "\n",
    "for i = 1:number_of_steps\n",
    "    pos, vel, acc = step_update(part_num, dim, pos, vel, acc, force, part_types, mass_parts, dt, box_size, finite_box, periodic) # Update\n",
    "    force = find_force(part_num, dim, pos, vel, acc, part_types, interaction_params, mass_parts) # Find new forces\n",
    "    \n",
    "    if (i % save_interval == 0) # If are saving this time step\n",
    "        saved_positions[save_index,:,:] = pos # Save position\n",
    "        if (save_data) # Only save vel, acc, and force if plan on saving to file\n",
    "            saved_velocities[save_index,:,:] = vel # Save velocity\n",
    "            saved_accelerations[save_index,:,:] = acc # Save accelerations\n",
    "            saved_forces[save_index,:,:] = force # Save forces\n",
    "        end\n",
    "        save_index += 1 # Increment index\n",
    "    end\n",
    "end\n",
    "\n",
    "if (save_data) # If save data\n",
    "    write_output(part_num, dim, part_types, interaction_params, mass_parts, dt, saved_positions, saved_velocities, saved_accelerations, saved_forces)\n",
    "end"
   ]
  },
  {
   "cell_type": "code",
   "execution_count": 36,
   "metadata": {},
   "outputs": [
    {
     "data": {
      "text/plain": [
       "Plots.PlotlyBackend()"
      ]
     },
     "execution_count": 36,
     "metadata": {},
     "output_type": "execute_result"
    }
   ],
   "source": [
    "#Pkg.add(\"Plots\")\n",
    "using Plots\n",
    "plotly()"
   ]
  },
  {
   "cell_type": "code",
   "execution_count": 37,
   "metadata": {
    "collapsed": true
   },
   "outputs": [],
   "source": [
    "#plot(pos[:,1],pos[:,2], seriestype=:scatter)"
   ]
  },
  {
   "cell_type": "code",
   "execution_count": 38,
   "metadata": {},
   "outputs": [],
   "source": [
    "#Pkg.add(\"Interact\")\n",
    "using Interact"
   ]
  },
  {
   "cell_type": "code",
   "execution_count": 39,
   "metadata": {},
   "outputs": [
    {
     "data": {
      "text/html": [
       "<script src=\"C:\\Users\\emily\\.julia\\v0.6\\Plots\\src\\backends\\..\\..\\deps\\plotly-latest.min.js\"></script>    <div id=\"858d1e1e-d3a2-43de-ad9e-e3185e01d034\" style=\"width:600px;height:400px;\"></div>\n",
       "    <script>\n",
       "    PLOT = document.getElementById('858d1e1e-d3a2-43de-ad9e-e3185e01d034');\n",
       "    Plotly.plot(PLOT, [{\"showlegend\":true,\"mode\":\"markers\",\"xaxis\":\"x\",\"colorbar\":{\"title\":\"\"},\"marker\":{\"symbol\":\"circle\",\"color\":\"rgba(0, 154, 250, 1.000)\",\"line\":{\"color\":\"rgba(0, 0, 0, 1.000)\",\"width\":1},\"size\":8},\"y\":[4.149756955763726,7.237213531225104,4.469942596794172,4.885247360330225,1.6542153853341035,6.392330800735966,2.8403690269264814,6.926091631632683,5.269712341781297,4.358409927914271,0.7846226240901433,9.130426959744238,9.668306327204077,8.39482704258687,2.1158017952863117,3.0552158322473777,5.67846522471168,3.7759285868216907,9.950960647955336,2.221090836842148,4.402260227545149,5.14166595587106,6.184531147578454,5.282250968521634,4.854981298109642,4.432970405771206,4.792272373207154,2.770025218393284,7.037823817176456,7.494907120060148,3.4593601994709444,9.665647081157346,5.081755885001704,9.15429138407709,3.5820515318725255,1.135165013957533,2.394282480632537,9.94999904044237,2.1643238460807734,5.745990651582682,0.39234802322880125,0.5746161332601152,2.195398710831604,3.989844593522176,8.784118907661057,9.732414104970207,2.149838054953652,4.057240662754431,1.5978593300908828,1.332021668992367,5.23441353984971,5.563877573856697,8.410657247239206,8.865990685456374,6.266404949123339,8.151021130422645,7.069909496209037,4.582828070741078,8.269688185024762,5.059548811719871,6.090937236819103,4.5830270161640785,9.30818746806363,1.0454645636045168,0.9151051503923968,6.180507533928266,1.1045873016758057,9.800140975843291,0.22139222077653065,5.110141542933375,2.593913889792332,4.7854475242203005,4.503608215944562,7.537534334558249,8.180742848719769,4.510337190130594,7.524439993732026,7.735172864928391,1.4233002887487012,1.5547074359558044,3.9465473050026656,8.342079981692478,8.09024933010187,9.57932701000453,3.8622894386846274,3.9972569303832706,1.7135009693490488,2.7682619221371696,9.563099851646705,0.9084198878636296,4.595213540579966,4.039968931178876,9.89199717293383,1.3073926908377964,3.213498670790913,0.6515387182864951,3.1074145558053123,0.48535099425811357,7.583714233971522,9.057983023230998],\"type\":\"scatter\",\"name\":\"y1\",\"yaxis\":\"y\",\"x\":[1.6186032777210912,2.1296674348816214,3.497288685432205,3.35165137772679,6.96479044030589,6.0824855398441375,1.6075980663875322,0.9029023455379259,1.9501134623816352,4.966017955554505,7.033677785743093,4.776765580379534,6.477373057142768,6.657584745658109,9.494774144802419,8.87299565900313,7.404815518492091,3.18390960702132,0.2997763904793782,4.065722058479599,5.30146061954508,8.001308954548694,7.491986796392793,2.8466495602709885,2.9740899721335268,1.7796709563719637,8.689966286844513,6.841739803734097,3.692627741382666,5.9336661266398805,5.073544938125149,7.629464506896757,9.705235061646773,4.631983395728088,6.575681317825694,7.199415125750141,1.0251855731144888,6.0380671232003325,0.05380033575701271,0.8742609726833384,4.902200075854395,1.489205825901423,2.5326361311226187,7.999801596052247,0.2504525265582269,7.7369325778907205,3.0474780010539138,7.492753605295423,1.2731315104275853,6.538779622589248,9.197339205968603,9.061578902152265,2.2247535289232334,5.129216562211325,1.5926160224878005,1.0054522410037348,3.7443039208983198,0.6057368538676422,8.128440949990328,0.2905819149150912,9.784159784904926,2.1551970859940495,8.855925816174679,0.91686374194339,0.7539908511356841,2.3040527308243286,1.2578966608143927,9.382353516360745,0.1566295075413926,5.120035097008982,0.5770883933744031,7.872558832569534,4.551969843868959,0.36951871329756525,4.1089011000772135,4.497949505800227,3.157538751509441,7.888505531633701,3.528937474957148,5.734049889966048,6.123735613016961,9.903407939348094,6.523263125966281,4.285376872574322,4.248699538535529,5.731754732818828,6.578608801597459,9.259664025524899,9.585092328430516,4.921404352230121,9.83854164573918,0.3450459784945248,9.865590613960238,9.739613071989337,2.0637177615332547,4.076128160625037,2.2164375735314734,5.5483454353188755,8.886248149656954,6.8463677604596125]}], {\"showlegend\":true,\"xaxis\":{\"gridwidth\":0.5,\"tickvals\":[0.0,2.5,5.0,7.5,10.0],\"visible\":true,\"ticks\":\"inside\",\"tickmode\":\"array\",\"domain\":[0.0658209390492855,0.9934383202099738],\"linecolor\":\"rgba(0, 0, 0, 1.000)\",\"showgrid\":true,\"title\":\"\",\"mirror\":false,\"tickangle\":0,\"showline\":true,\"gridcolor\":\"rgba(0, 0, 0, 0.100)\",\"titlefont\":{\"color\":\"rgba(0, 0, 0, 1.000)\",\"family\":\"sans-serif\",\"size\":15},\"tickcolor\":\"rgb(0, 0, 0)\",\"ticktext\":[\"0.0\",\"2.5\",\"5.0\",\"7.5\",\"10.0\"],\"zeroline\":false,\"type\":\"-\",\"tickfont\":{\"color\":\"rgba(0, 0, 0, 1.000)\",\"family\":\"sans-serif\",\"size\":11},\"zerolinecolor\":\"rgba(0, 0, 0, 1.000)\",\"anchor\":\"y\"},\"paper_bgcolor\":\"rgba(255, 255, 255, 1.000)\",\"annotations\":[],\"height\":400,\"margin\":{\"l\":0,\"b\":20,\"r\":0,\"t\":20},\"plot_bgcolor\":\"rgba(255, 255, 255, 1.000)\",\"yaxis\":{\"gridwidth\":0.5,\"tickvals\":[0.0,2.5,5.0,7.5,10.0],\"visible\":true,\"ticks\":\"inside\",\"tickmode\":\"array\",\"domain\":[0.03762029746281716,0.9901574803149606],\"linecolor\":\"rgba(0, 0, 0, 1.000)\",\"showgrid\":true,\"title\":\"\",\"mirror\":false,\"tickangle\":0,\"showline\":true,\"gridcolor\":\"rgba(0, 0, 0, 0.100)\",\"titlefont\":{\"color\":\"rgba(0, 0, 0, 1.000)\",\"family\":\"sans-serif\",\"size\":15},\"tickcolor\":\"rgb(0, 0, 0)\",\"ticktext\":[\"0.0\",\"2.5\",\"5.0\",\"7.5\",\"10.0\"],\"zeroline\":false,\"type\":\"-\",\"tickfont\":{\"color\":\"rgba(0, 0, 0, 1.000)\",\"family\":\"sans-serif\",\"size\":11},\"zerolinecolor\":\"rgba(0, 0, 0, 1.000)\",\"anchor\":\"x\"},\"legend\":{\"bordercolor\":\"rgba(0, 0, 0, 1.000)\",\"bgcolor\":\"rgba(255, 255, 255, 1.000)\",\"font\":{\"color\":\"rgba(0, 0, 0, 1.000)\",\"family\":\"sans-serif\",\"size\":11},\"y\":1.0,\"x\":1.0},\"width\":600});\n",
       "    </script>\n"
      ]
     },
     "execution_count": 39,
     "metadata": {},
     "output_type": "execute_result"
    }
   ],
   "source": [
    "#@manpulate for index=1:num_pos\n",
    "index = 1\n",
    "\n",
    "    plot(saved_positions[index,:,1],saved_positions[index,:,2], seriestype=:scatter)    \n",
    "#end"
   ]
  },
  {
   "cell_type": "code",
   "execution_count": 40,
   "metadata": {},
   "outputs": [
    {
     "data": {
      "text/html": [
       "<script src=\"C:\\Users\\emily\\.julia\\v0.6\\Plots\\src\\backends\\..\\..\\deps\\plotly-latest.min.js\"></script>    <div id=\"54406198-5dde-4116-a232-a9a89a3c661f\" style=\"width:600px;height:400px;\"></div>\n",
       "    <script>\n",
       "    PLOT = document.getElementById('54406198-5dde-4116-a232-a9a89a3c661f');\n",
       "    Plotly.plot(PLOT, [{\"showlegend\":true,\"mode\":\"markers\",\"xaxis\":\"x\",\"colorbar\":{\"title\":\"\"},\"marker\":{\"symbol\":\"circle\",\"color\":\"rgba(0, 154, 250, 1.000)\",\"line\":{\"color\":\"rgba(0, 0, 0, 1.000)\",\"width\":1},\"size\":8},\"y\":[4.181744653864088,7.250533988721616,4.225899301973606,4.675565277479538,1.780988672141412,6.261058869817148,2.817702737327378,6.812220717142693,5.292843554927674,4.390206156402102,0.8860669126982195,9.12390564234899,9.74702770974964,8.31421737543254,2.0975968836822716,3.0309089977759216,5.516859609236564,3.7445949285996165,0.034650798550314554,2.2023239740947167,4.433535511628454,5.165783970614331,6.045382631338008,5.305288816897975,4.64305063262762,4.187075463729869,4.575564606081415,2.7478601345765523,7.051820169482344,7.507424173584133,3.431444665710831,9.744323844373922,4.885829917070233,9.224868936615056,3.5528807767606185,1.121169878948158,2.374533040139153,0.03367149541123345,2.1458631397623176,5.587686173395663,0.3806406584581482,0.6710883292524031,2.176771346566276,3.955833701877053,8.79353057683599,9.722299542029113,2.2955640353957683,4.022315081805132,1.5820830736264435,1.3173075831339238,5.257810659332652,5.584958735363551,8.330322269374355,8.875245495296015,6.283567123805877,8.161792701563762,6.960133357967274,4.612087385224983,8.280183312267374,5.084333232006184,5.94800596758196,4.6122842179842785,9.298931104442296,1.1536410211550145,0.9018530820628656,6.198087361926264,1.2143831815467445,9.78987841762976,0.31029159787469424,5.134512176986358,2.572933127093707,4.568209988434769,4.262646522819087,7.439643126256251,8.19144416491979,4.269987046848647,7.536869639471521,7.747004545484696,1.5424894992107612,1.5391112593165264,4.214710464181141,8.35241165918353,8.00406692069191,9.569535401149297,3.8299142799737655,4.245526524324551,1.8423389088860234,2.9443088421765458,9.553341566561395,0.8951894602754759,4.624341764140226,4.005281237058097,9.974612592129734,1.2927715458930837,3.1878666822683797,0.6391013080020488,3.0826822849692483,0.4733892465350671,7.486890385530101,9.232767058490914],\"type\":\"scatter\",\"name\":\"y1\",\"yaxis\":\"y\",\"x\":[1.5858601321153316,2.1609378012252,3.3401920792793938,3.187390367097501,7.036763466081496,6.001195910626725,1.5749927991245847,1.1045869990163202,1.9836016676258001,4.979331957250103,7.106672201221925,4.790719432082764,6.40261661668004,6.58555028435338,9.47825627336968,8.85896126336704,7.483707061323909,3.205702845663961,0.4653416010631629,4.082543365132223,5.313743770547165,7.989912123641159,7.572367308492212,2.8709429517552887,2.78877480267588,1.8423740941964921,8.795962684627737,6.837784743787283,3.7113209005894316,5.944306274362198,5.0865148063622225,7.712280655601715,9.843980325536418,4.5175120981534596,6.584968574755678,7.18983934217342,0.9987973806581847,5.955989289250944,0.034441064373148596,1.0739706731978291,4.915724835765173,1.7326942660058742,2.5596646837865324,7.988408660829132,0.22991741644838415,7.726189645598487,2.8665636841269517,7.482565899302787,1.244334388920005,6.548137462099637,9.182085106317642,9.046853953988771,1.9834039806348447,5.142013472653139,1.5601970645759697,0.9792426748150542,3.598323386911938,0.5827879994218557,8.116708225327407,0.2697937360010192,9.926070843172122,2.1861700579413625,8.841951518424425,1.119521865898395,0.7299074029771349,2.333373142496757,1.4867412141539278,9.36633114444591,0.3150623407491897,5.132860292956005,0.5543495370385464,7.959962216330832,4.435101317741173,0.5387362561683082,4.1255240828551045,4.37941946050766,3.179513260283465,7.877394809788951,3.373335245690878,5.745171289770561,6.0431678135042715,9.884881127732905,6.449214319760476,4.301224659810675,4.2647039106584375,5.6439142494814485,6.505400118188961,9.382385944854084,9.568159544857249,4.934865167040162,9.820357410618827,0.3239067879700838,0.010883767178610221,9.721933307644573,2.0957764606004945,4.092901348322145,2.2467141888029265,5.5599444647270175,8.997596629906882,6.645364216276874]}], {\"showlegend\":true,\"xaxis\":{\"gridwidth\":0.5,\"tickvals\":[0.0,2.5,5.0,7.5,10.0],\"visible\":true,\"ticks\":\"inside\",\"tickmode\":\"array\",\"domain\":[0.0658209390492855,0.9934383202099738],\"linecolor\":\"rgba(0, 0, 0, 1.000)\",\"showgrid\":true,\"title\":\"\",\"mirror\":false,\"tickangle\":0,\"showline\":true,\"gridcolor\":\"rgba(0, 0, 0, 0.100)\",\"titlefont\":{\"color\":\"rgba(0, 0, 0, 1.000)\",\"family\":\"sans-serif\",\"size\":15},\"tickcolor\":\"rgb(0, 0, 0)\",\"ticktext\":[\"0.0\",\"2.5\",\"5.0\",\"7.5\",\"10.0\"],\"zeroline\":false,\"type\":\"-\",\"tickfont\":{\"color\":\"rgba(0, 0, 0, 1.000)\",\"family\":\"sans-serif\",\"size\":11},\"zerolinecolor\":\"rgba(0, 0, 0, 1.000)\",\"anchor\":\"y\"},\"paper_bgcolor\":\"rgba(255, 255, 255, 1.000)\",\"annotations\":[],\"height\":400,\"margin\":{\"l\":0,\"b\":20,\"r\":0,\"t\":20},\"plot_bgcolor\":\"rgba(255, 255, 255, 1.000)\",\"yaxis\":{\"gridwidth\":0.5,\"tickvals\":[0.0,2.5,5.0,7.5,10.0],\"visible\":true,\"ticks\":\"inside\",\"tickmode\":\"array\",\"domain\":[0.03762029746281716,0.9901574803149606],\"linecolor\":\"rgba(0, 0, 0, 1.000)\",\"showgrid\":true,\"title\":\"\",\"mirror\":false,\"tickangle\":0,\"showline\":true,\"gridcolor\":\"rgba(0, 0, 0, 0.100)\",\"titlefont\":{\"color\":\"rgba(0, 0, 0, 1.000)\",\"family\":\"sans-serif\",\"size\":15},\"tickcolor\":\"rgb(0, 0, 0)\",\"ticktext\":[\"0.0\",\"2.5\",\"5.0\",\"7.5\",\"10.0\"],\"zeroline\":false,\"type\":\"-\",\"tickfont\":{\"color\":\"rgba(0, 0, 0, 1.000)\",\"family\":\"sans-serif\",\"size\":11},\"zerolinecolor\":\"rgba(0, 0, 0, 1.000)\",\"anchor\":\"x\"},\"legend\":{\"bordercolor\":\"rgba(0, 0, 0, 1.000)\",\"bgcolor\":\"rgba(255, 255, 255, 1.000)\",\"font\":{\"color\":\"rgba(0, 0, 0, 1.000)\",\"family\":\"sans-serif\",\"size\":11},\"y\":1.0,\"x\":1.0},\"width\":600});\n",
       "    </script>\n"
      ]
     },
     "execution_count": 40,
     "metadata": {},
     "output_type": "execute_result"
    }
   ],
   "source": [
    "index = 50    \n",
    "plot(saved_positions[index,:,1],saved_positions[index,:,2], seriestype=:scatter)    \n"
   ]
  },
  {
   "cell_type": "code",
   "execution_count": null,
   "metadata": {
    "collapsed": true
   },
   "outputs": [],
   "source": []
  },
  {
   "cell_type": "code",
   "execution_count": null,
   "metadata": {
    "collapsed": true
   },
   "outputs": [],
   "source": []
  }
 ],
 "metadata": {
  "kernelspec": {
   "display_name": "Julia 0.6.0",
   "language": "julia",
   "name": "julia-0.6"
  },
  "language_info": {
   "file_extension": ".jl",
   "mimetype": "application/julia",
   "name": "julia",
   "version": "0.6.0"
  }
 },
 "nbformat": 4,
 "nbformat_minor": 2
}
