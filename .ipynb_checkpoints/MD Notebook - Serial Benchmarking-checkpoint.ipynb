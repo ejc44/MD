{
 "cells": [
  {
   "cell_type": "markdown",
   "metadata": {},
   "source": [
    "# Final Project for CS 6.338\n",
    "# Emily Crabb\n",
    "\n",
    "# Molecular dyanmics simulation implementation in Julia\n",
    "\n",
    "# Serial version\n",
    "\n",
    "# Modified version for benchmarking (no saving outputs or plotting)"
   ]
  },
  {
   "cell_type": "markdown",
   "metadata": {},
   "source": [
    "This version of the serial MD implementation is designed for benchmarking the actual MD implementation.  As such, the parameters have been set so that the results are not written to a file.  The code has also been altered so that the particles' positions are no longer saved periodically, so the positions are also not plotted.  These changes were to ensure the timing captures the most essential functions of the program, namely updating the particles' positions, velocities, accelerations, and forces."
   ]
  },
  {
   "cell_type": "markdown",
   "metadata": {},
   "source": [
    "This notebook implements a serial version of a molecular dynamics simulation in the Julia programming language.  Notable features include\n",
    "\n",
    "1) The option to read parameters (like number of simulation steps) and/or initial data (starting configuration: position, velocity, acceleration, forces) from external files.  These files must be in the same folder as this notebook and have the correct names (as specified in the code).\n",
    "\n",
    "2) The option to directly specify the parameters in the notebook.  Note: These parameters are all constants, so one must restart the kernel to redefine them.\n",
    "\n",
    "3) The option to model finite and infinite systems.\n",
    "\n",
    "4) The ability to make finite systems periodic or non-periodic.\n",
    "\n",
    "5) If the initial data / configuration is not specified in a file, it can be generated in the code.  For example, the starting positions are random within the specified box size.  The user can modify any of the initial conditions by altering the initialize() function.  \n",
    "\n",
    "6) The user can also modify the form and strength of the forces by altering the find_forces() and gen_interaction() functions.\n",
    "\n",
    "Note: The parameters are all constants, so one must restart the kernel to redefine them.\n",
    "\n",
    "Note: If the parameters and/or initial data is read from files, the program assumes the files are compatible (i.e. the dimension in the dim.txt file matches the dimensions of the particles' positions, etc.).  This is not a problem if the user is restarting from previously saved files but could be a problem if the user has made changes to the files."
   ]
  },
  {
   "cell_type": "markdown",
   "metadata": {},
   "source": [
    "References:\n",
    "\n",
    "For Julia help: The documentation at https://julialang.org/\n",
    "\n",
    "For calculating forces: Article titled \"Verlet integration\" at https://www.saylor.org/site/wp-content/uploads/2011/06/MA221-6.1.pdf\n",
    "\n",
    "For general layout of basic MD code: John Burkardt's website at https://people.sc.fsu.edu/~jburkardt/py_src/md/md.html"
   ]
  },
  {
   "cell_type": "code",
   "execution_count": 1,
   "metadata": {},
   "outputs": [
    {
     "name": "stdout",
     "output_type": "stream",
     "text": [
      "This program is using 1 processes\n",
      "This program is using 1 workers\n"
     ]
    }
   ],
   "source": [
    "println(\"This program is using \", nprocs(), \" processes\")\n",
    "println(\"This program is using \", nworkers(), \" workers\")"
   ]
  },
  {
   "cell_type": "code",
   "execution_count": 2,
   "metadata": {
    "collapsed": true
   },
   "outputs": [],
   "source": [
    "# For benchmarking, data can't be saved to output file but can still be read in\n",
    "\n",
    "const params_from_file = false; # Whether input parameters should be read from file\n",
    "const data_from_file = false; # Whether starting data should be read from file\n",
    "const save_data = false; # Whether to save data to file so can restart"
   ]
  },
  {
   "cell_type": "code",
   "execution_count": 3,
   "metadata": {},
   "outputs": [
    {
     "data": {
      "text/plain": [
       "gen_interaction (generic function with 1 method)"
      ]
     },
     "execution_count": 3,
     "metadata": {},
     "output_type": "execute_result"
    }
   ],
   "source": [
    "# Generate strengths of interactions between particle types\n",
    "# Very simple but user could replace with anything they wanted\n",
    "\n",
    "function gen_interaction(num_part_types)\n",
    "    interaction_params = zeros(Float64, num_part_types,num_part_types)\n",
    "    for i=1:num_part_types\n",
    "        for j = 1:num_part_types\n",
    "            if (i==j) # Self-interaction is randomly repulsive\n",
    "                interaction_params[i,j] = -1*rand(Float64)\n",
    "            elseif (i<j) # Others randomly attractive\n",
    "                val = rand(Float64)\n",
    "                interaction_params[i,j] = val\n",
    "                interaction_params[j,i] = val\n",
    "            end\n",
    "        end        \n",
    "    end\n",
    "    \n",
    "    return interaction_params\n",
    "end"
   ]
  },
  {
   "cell_type": "code",
   "execution_count": 4,
   "metadata": {},
   "outputs": [
    {
     "data": {
      "text/plain": [
       "10"
      ]
     },
     "execution_count": 4,
     "metadata": {},
     "output_type": "execute_result"
    }
   ],
   "source": [
    "# Global constants \n",
    "# Read from file if specified\n",
    "\n",
    "if (params_from_file) # Read parameters in from file\n",
    "    const number_of_steps = Int(readdlm(\"number_of_steps.txt\")[1]); # Number of steps to execute in simulation\n",
    "    const dim = Int(readdlm(\"dim.txt\")[1]); # Dimensions of simulation\n",
    "    const box_size = readdlm(\"box_size.txt\")[1]; # Size of one side of box\n",
    "    const finite_box = readdlm(\"finite_box.txt\")[1]; # Whether box if finite or just where particles are initially placed\n",
    "    const periodic = readdlm(\"periodic.txt\")[1]; # Whether simulation is periodic\n",
    "    const part_num = Int(readdlm(\"part_num.txt\")[1]); # Number of particles in simulation\n",
    "    const dt = readdlm(\"dt.txt\")[1]; # Time step\n",
    "    const num_part_types = Int(readdlm(\"num_part_types.txt\")[1]); # Number of types of particles\n",
    "    const interaction_params = readdlm(\"interaction_params.txt\"); # Interations parameters for types of particles\n",
    "    const mass_parts = readdlm(\"mass_parts.txt\"); # Masses of types of particles\n",
    "    const save_interval = Int(readdlm(\"save_interval.txt\")[1]); # How often save position\n",
    "else # Assign parameter values here\n",
    "    const number_of_steps = 10000; # Number of steps to execute in simulation\n",
    "    const dim = 3; # Dimensions of simulation\n",
    "    const box_size = 10.0; # Size of one side of box\n",
    "    const finite_box = true; # Whether box if finite or just where particles are initially placed\n",
    "    const periodic = true; # Whether simulation is periodic\n",
    "    const part_num = 100; # Number of particles in simulation\n",
    "    const dt = 0.01; # Time step\n",
    "    const num_part_types = 2; # Number of types of particles\n",
    "    const interaction_params = gen_interaction(num_part_types); # Interations parameters for types of particles\n",
    "    const mass_parts = rand(Float64, num_part_types); # Masses of types of particles\n",
    "    const save_interval = 10; # How often save position\n",
    "end"
   ]
  },
  {
   "cell_type": "code",
   "execution_count": 5,
   "metadata": {},
   "outputs": [
    {
     "data": {
      "text/plain": [
       "initialize (generic function with 1 method)"
      ]
     },
     "execution_count": 5,
     "metadata": {},
     "output_type": "execute_result"
    }
   ],
   "source": [
    "# Initialize position, velocity, acceleration, and particle type\n",
    "# Can read in from file or generate in code\n",
    "# If generate in code, currently start with zero velocity and acceleration\n",
    "# If generate in code, currently start with random positions and randomly assigned particle types\n",
    "\n",
    "function initialize(part_num, dim, box_size, num_part_types, data_from_file)\n",
    "\n",
    "    if (data_from_file) # Read data in from file\n",
    "        part_types = readdlm(\"part_types.txt\", Int)\n",
    "        pos = readdlm(\"saved_positions.txt\")\n",
    "        vel = readdlm(\"saved_velocities.txt\")\n",
    "        acc = readdlm(\"saved_accelerations.txt\")\n",
    "    else # Generate data\n",
    "        part_types = rand(1:num_part_types, part_num) # Randomly assign type of each particle\n",
    "        pos = box_size*rand(Float64, part_num, dim) # Initialized to be randomly placed within a box\n",
    "        vel = zeros(Float64, part_num, dim) # Initialized to zero\n",
    "        acc = zeros(Float64, part_num, dim) # Initialized to zero\n",
    "    end\n",
    "        \n",
    "    return pos, vel, acc, part_types\n",
    "end"
   ]
  },
  {
   "cell_type": "code",
   "execution_count": 6,
   "metadata": {},
   "outputs": [
    {
     "data": {
      "text/plain": [
       "step_update (generic function with 1 method)"
      ]
     },
     "execution_count": 6,
     "metadata": {},
     "output_type": "execute_result"
    }
   ],
   "source": [
    "# Update position, velocity, and acceleration using Velocity Verlet Algorithm\n",
    "# Can deal with infinite and finite systems\n",
    "# For finite system, can be periodic or can reflect off walls\n",
    "\n",
    "function step_update(part_num, dim, pos, vel, acc, force, part_types, mass_parts, dt, box_size, finite_box, periodic)\n",
    "\n",
    "    # Loop is completely parallelizale\n",
    "    for i = 1:part_num # For every particle\n",
    "        mass = mass_parts[part_types[i]]\n",
    "        for j = 1:dim # For each dimension\n",
    "            pos[i,j] = pos[i,j] + vel[i,j]*dt + 0.5*acc[i,j]*dt^2 # x(t+Δt) = x(t) + v(t)Δt + 1/2*a(t)(Δt)^2\n",
    "            vel[i,j] = vel[i,j] + 0.5*(acc[i,j] + force[i,j]/mass)*dt # v(t+Δt) = v(t) + 1/2*(a(t)+a(t+Δt))Δt\n",
    "            acc[i,j] = force[i,j]/mass # a = F/m\n",
    "            \n",
    "            if (finite_box) # If finite box, check are still inside and correct if not\n",
    "                if (periodic) # For periodic, just change position to be in box\n",
    "                    if (pos[i,j] < 0) # If no longer in box\n",
    "                        pos[i,j] = box_size + (pos[i,j] % box_size)\n",
    "                    elseif (pos[i,j] > box_size) # If no longer in box\n",
    "                        pos[i,j] = pos[i,j] % box_size                        \n",
    "                    end\n",
    "                else # If not periodic, more complicated - reflects off walls\n",
    "                    if (pos[i,j] < 0) # If no longer in box\n",
    "                        pos[i,j] = -1*(pos[i,j])\n",
    "                    elseif (pos[i,j] > box_size) # If no longer in box\n",
    "                        pos[i,j] = box_size - pos[i,j]\n",
    "                    end\n",
    "                    vel[i,j] = -1*(vel[i,j])\n",
    "                    acc[i,j] = -1*(acc[i,j])\n",
    "                end\n",
    "            end\n",
    "        end\n",
    "    end\n",
    "    \n",
    "    # return pos, vel, acc # No need to return b/c is passed by reference\n",
    "end"
   ]
  },
  {
   "cell_type": "code",
   "execution_count": 7,
   "metadata": {},
   "outputs": [
    {
     "data": {
      "text/plain": [
       "find_force (generic function with 1 method)"
      ]
     },
     "execution_count": 7,
     "metadata": {},
     "output_type": "execute_result"
    }
   ],
   "source": [
    "# Find force on each particle\n",
    "# 1/r^2 interactions: Is very simple but user can replace with anything they want\n",
    "\n",
    "function find_force(part_num, dim, pos, vel, acc, part_types, interaction_params, mass_parts)\n",
    "    \n",
    "    force = zeros(part_num, dim)\n",
    "    \n",
    "    for i = 1:part_num # For every particle\n",
    "        mass = mass_parts[Int(part_types[i])]\n",
    "        for k = 1:part_num # Contribution from every other particle\n",
    "            if (i != k) # No self-interaction\n",
    "                for j = 1:dim # For each dimension\n",
    "                    int_strength = interaction_params[part_types[i],part_types[k]] # Strength of interaction between particles\n",
    "                    if (pos[i,j] > pos[k,j])\n",
    "                       int_strength = -1*int_strength # Reverses direction of force if positions flopped\n",
    "                    end\n",
    "\n",
    "                    # Find distance between particles\n",
    "                    dist = 0.0\n",
    "                    if (periodic) # If periodic, check whether a periodic distance is shorter\n",
    "                        dist = abs(pos[i,j] - pos[k,j])\n",
    "                        if (pos[i,j] < pos[k,j])\n",
    "                            new_dist = abs(box_size + pos[i,j] - pos[k,j])\n",
    "                            if new_dist > dist\n",
    "                                dist = new_dist\n",
    "                                int_strength = -1*int_strength # Reverses direction of force\n",
    "                            end\n",
    "                        else\n",
    "                            new_dist = abs(box_size + pos[k,j] - pos[i,j])\n",
    "                            if new_dist > dist\n",
    "                                dist = new_dist\n",
    "                                int_strength = -1*int_strength # Reverses direction of force\n",
    "                            end\n",
    "                        end\n",
    "                        else # Otherwise, just regular distance\n",
    "                        dist = abs(pos[i,j] - pos[k,j])\n",
    "                    end\n",
    "                    \n",
    "                    force[i,j] += int_strength / dist^2 # 1/r^2 interaction\n",
    "                end\n",
    "            end\n",
    "        end\n",
    "    end\n",
    "    \n",
    "    return force\n",
    "end"
   ]
  },
  {
   "cell_type": "code",
   "execution_count": 8,
   "metadata": {},
   "outputs": [
    {
     "data": {
      "text/plain": [
       "write_output (generic function with 1 method)"
      ]
     },
     "execution_count": 8,
     "metadata": {},
     "output_type": "execute_result"
    }
   ],
   "source": [
    "# Write each variable to its own output file in current diretory\n",
    "# Decided to write each variable to own file because is very easy to read values in and restart\n",
    "# Won't be used for benchmarking\n",
    "\n",
    "function write_output(number_of_steps, dim, box_size, finite_box, periodic, part_num, dt, num_part_types, interaction_params, mass_parts, save_interval, part_types, saved_positions, saved_velocities, saved_accelerations, saved_forces) \n",
    "    writedlm(\"number_of_steps.txt\", number_of_steps)\n",
    "    writedlm(\"dim.txt\", dim)\n",
    "    writedlm(\"box_size.txt\", box_size)\n",
    "    writedlm(\"finite_box.txt\", finite_box)\n",
    "    writedlm(\"periodic.txt\", periodic)\n",
    "    writedlm(\"part_num.txt\", part_num)\n",
    "    writedlm(\"dt.txt\", dt)\n",
    "    writedlm(\"num_part_types.txt\", num_part_types)\n",
    "    writedlm(\"interaction_params.txt\", interaction_params)\n",
    "    writedlm(\"mass_parts.txt\", mass_parts)\n",
    "    writedlm(\"save_interval.txt\", save_interval)\n",
    "    writedlm(\"part_types.txt\", part_types)\n",
    "    writedlm(\"saved_positions.txt\", saved_positions[size(saved_positions,1),:,:])\n",
    "    writedlm(\"saved_velocities.txt\", saved_velocities[size(saved_velocities,1),:,:])\n",
    "    writedlm(\"saved_accelerations.txt\", saved_accelerations[size(saved_accelerations,1),:,:])\n",
    "    writedlm(\"saved_forces.txt\", saved_forces[size(saved_forces,1),:,:])\n",
    "end"
   ]
  },
  {
   "cell_type": "code",
   "execution_count": 9,
   "metadata": {},
   "outputs": [
    {
     "data": {
      "text/plain": [
       "main (generic function with 1 method)"
      ]
     },
     "execution_count": 9,
     "metadata": {},
     "output_type": "execute_result"
    }
   ],
   "source": [
    "# Main body of program where positions, velocities, accelerations, and forces are updated\n",
    "# This is the part of the program that is timed\n",
    "\n",
    "function main(number_of_steps, part_num, dim, pos, vel, acc, force, part_types, mass_parts, dt, box_size, finite_box, periodic, interaction_params)\n",
    "\n",
    "    for i = 1:number_of_steps\n",
    "        step_update(part_num, dim, pos, vel, acc, force, part_types, mass_parts, dt, box_size, finite_box, periodic) # Update\n",
    "        force = find_force(part_num, dim, pos, vel, acc, part_types, interaction_params, mass_parts) # Find new forces\n",
    "\n",
    "        # Don't save data in benchmarking version\n",
    "        #=if (i % save_interval == 0) # If are saving this time step\n",
    "            saved_positions[save_index,:,:] = pos # Save position\n",
    "            if (save_data) # Only save vel, acc, and force if plan on saving to file\n",
    "                saved_velocities[save_index,:,:] = vel # Save velocity\n",
    "                saved_accelerations[save_index,:,:] = acc # Save accelerations\n",
    "                saved_forces[save_index,:,:] = force # Save forces\n",
    "            end\n",
    "            save_index += 1 # Increment index\n",
    "        end=#\n",
    "    end\n",
    "    \n",
    "end"
   ]
  },
  {
   "cell_type": "code",
   "execution_count": 10,
   "metadata": {
    "collapsed": true
   },
   "outputs": [],
   "source": [
    "using BenchmarkTools"
   ]
  },
  {
   "cell_type": "code",
   "execution_count": 11,
   "metadata": {},
   "outputs": [
    {
     "data": {
      "text/plain": [
       "BenchmarkTools.Trial: \n",
       "  memory estimate:  24.41 MiB\n",
       "  allocs estimate:  10000\n",
       "  --------------\n",
       "  minimum time:     3.005 s (0.08% GC)\n",
       "  median time:      3.008 s (0.08% GC)\n",
       "  mean time:        3.008 s (0.08% GC)\n",
       "  maximum time:     3.010 s (0.08% GC)\n",
       "  --------------\n",
       "  samples:          2\n",
       "  evals/sample:     1"
      ]
     },
     "execution_count": 11,
     "metadata": {},
     "output_type": "execute_result"
    }
   ],
   "source": [
    "# Set up matrices to save positions, velocities, and accelerations into\n",
    "# Unnecessary in benchmarking code\n",
    "#=num_pos = floor(Int, number_of_steps/save_interval)+1 # Number of positions to save\n",
    "saved_positions = zeros(num_pos, part_num, dim) # Save positions with specified frequency\n",
    "if (save_data) # Only save vel, acc, and force if plan on saving to file\n",
    "    saved_velocities = zeros(num_pos, part_num, dim) # Save velocities with specified frequency\n",
    "    saved_accelerations = zeros(num_pos, part_num, dim) # Save accelerations with specified frequency\n",
    "    saved_forces = zeros(num_pos, part_num, dim) # Save forces with specified frequency\n",
    "end\n",
    "save_index = 1 # Keep track of index so can save positions with specified frequency=#\n",
    "\n",
    "\n",
    "# Initialization\n",
    "pos, vel, acc, part_types = initialize(part_num, dim, box_size, num_part_types, data_from_file) # Initialize\n",
    "if (data_from_file)\n",
    "    force = readdlm(\"saved_forces.txt\")\n",
    "else\n",
    "    force = find_force(part_num, dim, pos, vel, acc, part_types, interaction_params, mass_parts) # Find forces on particles\n",
    "end\n",
    "\n",
    "# Unnecessary in benchmarking code\n",
    "#=saved_positions[save_index,:,:] = pos # Save position\n",
    "if (save_data) # Only save vel, acc, and force if plan on saving to file\n",
    "    saved_velocities[save_index,:,:] = vel # Save velocity\n",
    "    saved_accelerations[save_index,:,:] = acc # Save accelerations\n",
    "    saved_forces[save_index,:,:] = force # Save forces\n",
    "end\n",
    "save_index += 1 # Increment index=#\n",
    "\n",
    "\n",
    "# Benchmarking\n",
    "\n",
    "@benchmark main(number_of_steps, part_num, dim, pos, vel, acc, force, part_types, mass_parts, dt, box_size, finite_box, periodic, interaction_params)\n",
    "\n",
    "# Don't save data in benchmarking version\n",
    "#=if (save_data) # If save data\n",
    "    write_output(number_of_steps, dim, box_size, finite_box, periodic, part_num, dt, num_part_types, interaction_params, mass_parts, save_interval, part_types, saved_positions, saved_velocities, saved_accelerations, saved_forces) \n",
    "end=#"
   ]
  }
 ],
 "metadata": {
  "kernelspec": {
   "display_name": "Julia 0.6.0",
   "language": "julia",
   "name": "julia-0.6"
  },
  "language_info": {
   "file_extension": ".jl",
   "mimetype": "application/julia",
   "name": "julia",
   "version": "0.6.0"
  }
 },
 "nbformat": 4,
 "nbformat_minor": 2
}
