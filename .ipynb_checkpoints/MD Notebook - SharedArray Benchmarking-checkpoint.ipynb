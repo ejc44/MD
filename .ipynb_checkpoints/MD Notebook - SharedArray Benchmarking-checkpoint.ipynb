{
 "cells": [
  {
   "cell_type": "markdown",
   "metadata": {},
   "source": [
    "# Final Project for CS 6.338\n",
    "# Emily Crabb\n",
    "\n",
    "# Parallel molecular dyanmics simulation implementation in Julia\n",
    "\n",
    "# SharedArray Version"
   ]
  },
  {
   "cell_type": "markdown",
   "metadata": {},
   "source": [
    "some sort of description of project !!!!!!!!"
   ]
  },
  {
   "cell_type": "markdown",
   "metadata": {},
   "source": [
    "Sources:\n",
    "\n",
    "https://people.sc.fsu.edu/~jburkardt/py_src/md/md.py\n",
    "\n",
    "https://www.saylor.org/site/wp-content/uploads/2011/06/MA221-6.1.pdf\n"
   ]
  },
  {
   "cell_type": "markdown",
   "metadata": {},
   "source": [
    "To do (in no particular order):\n",
    "\n",
    "\n",
    "Convert to script - important for analysis\n",
    "\n",
    "Allow user to specify values of parameters - lower priority\n",
    "\n",
    "Read initial conditions from file - lower priority\n",
    "\n",
    "Save data to file - some already done but isn't enough to restart probably - lower priority but is easy\n"
   ]
  },
  {
   "cell_type": "code",
   "execution_count": 1,
   "metadata": {},
   "outputs": [
    {
     "data": {
      "text/plain": [
       "gen_interaction (generic function with 1 method)"
      ]
     },
     "execution_count": 1,
     "metadata": {},
     "output_type": "execute_result"
    }
   ],
   "source": [
    "# Generate strengths of interactions between particle types\n",
    "# Very simple but user could replace with anything they wanted\n",
    "\n",
    "function gen_interaction(num_part_types)\n",
    "    interaction_params = zeros(Float64, num_part_types,num_part_types)\n",
    "    for i=1:num_part_types\n",
    "        for j = 1:num_part_types\n",
    "            if (i==j) # Self-interaction is randomly repulsive\n",
    "                interaction_params[i,j] = -1*rand(Float64)\n",
    "            elseif (i<j) # Others randomly attractive\n",
    "                val = rand(Float64)\n",
    "                interaction_params[i,j] = val\n",
    "                interaction_params[j,i] = val\n",
    "            end\n",
    "        end        \n",
    "    end\n",
    "    \n",
    "    return interaction_params\n",
    "end"
   ]
  },
  {
   "cell_type": "code",
   "execution_count": 2,
   "metadata": {
    "collapsed": true
   },
   "outputs": [],
   "source": [
    "# Global constants \n",
    "# If convert to script, some should be user inputs\n",
    "\n",
    "const number_of_steps = 10000; # Number of steps to execute in simulation\n",
    "const dim = 3; # Dimensions of simulation\n",
    "const box_size = 10; # Size of one side of box\n",
    "const finite_box = true; # Whether box if finite or just where particles are initially placed\n",
    "const periodic = true; # Whether simulation is periodic\n",
    "const part_num = 100; # Number of particles in simulation\n",
    "const dt = 0.01; # Time step\n",
    "const num_part_types = 2; # Number of types of particles\n",
    "const interaction_params = gen_interaction(num_part_types); # Interations parameters for types of particles\n",
    "const mass_parts = rand(Float64, num_part_types); # Masses of types of particles\n",
    "const save_interval = 10; # How often save position\n",
    "const save_data = false; # For benchmarking, don't save data"
   ]
  },
  {
   "cell_type": "code",
   "execution_count": 3,
   "metadata": {},
   "outputs": [
    {
     "data": {
      "text/plain": [
       "initialize (generic function with 1 method)"
      ]
     },
     "execution_count": 3,
     "metadata": {},
     "output_type": "execute_result"
    }
   ],
   "source": [
    "# Initialize position, velocity, acceleration, and particle type\n",
    "# Currently start with zero velocity and acceleration\n",
    "# Currently start with random positions and randomly assigned particle types\n",
    "\n",
    "function initialize(part_num, dim, box_size, num_part_types)\n",
    "    \n",
    "    pos = box_size*rand(Float64, part_num, dim) # Initialized to be randomly placed within a box\n",
    "    pos = convert(SharedArray,pos) # Store in SharedArray so can use @parallel\n",
    "    \n",
    "    vel = zeros(Float64, part_num, dim) # Initialized to zero\n",
    "    vel = convert(SharedArray,vel) # Store in SharedArray so can use @parallel\n",
    "    acc = zeros(Float64, part_num, dim) # Initialized to zero\n",
    "    acc = convert(SharedArray,acc) # Store in SharedArray so can use @parallel\n",
    "    \n",
    "    part_types = rand(1:num_part_types, part_num) # Randomly assign type of each particle\n",
    "        \n",
    "    return pos, vel, acc, part_types\n",
    "end"
   ]
  },
  {
   "cell_type": "code",
   "execution_count": 4,
   "metadata": {},
   "outputs": [
    {
     "data": {
      "text/plain": [
       "step_update (generic function with 1 method)"
      ]
     },
     "execution_count": 4,
     "metadata": {},
     "output_type": "execute_result"
    }
   ],
   "source": [
    "# Update position, velocity, and acceleration using Velocity Verlet Algorithm\n",
    "# Currently system size is infinite (positions not constrained)\n",
    "\n",
    "function step_update(part_num, dim, pos, vel, acc, force, part_types, mass_parts, dt, box_size, finite_box, periodic)\n",
    "    \n",
    "    # Outer loop in parallel\n",
    "    @sync @parallel for i = 1:part_num # For every particle\n",
    "    #for i = 1:part_num # For every particle\n",
    "        mass = mass_parts[part_types[i]]\n",
    "        @parallel for j = 1:dim # For each dimension\n",
    "        #for j = 1:dim # For each dimension\n",
    "            pos[i,j] = pos[i,j] + vel[i,j]*dt + 0.5*acc[i,j]*dt^2 # x(t+Δt) = x(t) + v(t)Δt + 1/2*a(t)(Δt)^2\n",
    "            vel[i,j] = vel[i,j] + 0.5*(acc[i,j] + force[i,j]/mass)*dt # v(t+Δt) = v(t) + 1/2*(a(t)+a(t+Δt))Δt\n",
    "            acc[i,j] = force[i,j]/mass # a = F/m\n",
    "            \n",
    "            if (finite_box) # If finite box, check are still inside and correct if not\n",
    "                if (periodic) # For periodic, just change position to be in box\n",
    "                    if (pos[i,j] < 0) # If no longer in box\n",
    "                        pos[i,j] = box_size + (pos[i,j] % box_size)\n",
    "                    elseif (pos[i,j] > box_size) # If no longer in box\n",
    "                        pos[i,j] = pos[i,j] % box_size                        \n",
    "                    end\n",
    "                else # If not periodic, more complicated - reflects off walls\n",
    "                    if (pos[i,j] < 0) # If no longer in box\n",
    "                        pos[i,j] = -1*(pos[i,j])\n",
    "                    elseif (pos[i,j] > box_size) # If no longer in box\n",
    "                        pos[i,j] = box_size - pos[i,j]\n",
    "                    end\n",
    "                    vel[i,j] = -1*(vel[i,j])\n",
    "                    acc[i,j] = -1*(acc[i,j])\n",
    "                end\n",
    "            end\n",
    "        end\n",
    "    end\n",
    "    \n",
    "    return pos, vel, acc\n",
    "end"
   ]
  },
  {
   "cell_type": "code",
   "execution_count": 5,
   "metadata": {},
   "outputs": [
    {
     "data": {
      "text/plain": [
       "find_force (generic function with 1 method)"
      ]
     },
     "execution_count": 5,
     "metadata": {},
     "output_type": "execute_result"
    }
   ],
   "source": [
    "# Find force on each particle\n",
    "# 1/r^2 interactions currently\n",
    "# Again, very simple but user can replace with anything they want\n",
    "\n",
    "function find_force(part_num, dim, pos, vel, acc, part_types, interaction_params, mass_parts)\n",
    "    \n",
    "    #force = zeros(part_num, dim)\n",
    "    #force = convert(SharedArray,force)\n",
    "    \n",
    "    force = SharedArray{Float64,2}(part_num,dim) # Store forces in SharedArray so can use @parallel\n",
    "    \n",
    "    # Outer loop in parallel\n",
    "    @sync @parallel for i = 1:part_num # For every particle\n",
    "    #for i = 1:part_num # For every particle\n",
    "        mass = mass_parts[part_types[i]]\n",
    "        for k = 1:part_num # Contribution from every other particle\n",
    "            if (i != k) # No self-interaction\n",
    "                for j = 1:dim # For each dimension\n",
    "                    int_strength = interaction_params[part_types[i],part_types[k]] # Strength of interaction between particles\n",
    "                    if (pos[i,j] > pos[k,j])\n",
    "                       int_strength = -1*int_strength # Reverses direction of force if positions flopped\n",
    "                    end\n",
    "\n",
    "                    # Find distance between particles\n",
    "                    dist = 0.0\n",
    "                    if (periodic) # If periodic, check whether a periodic distance is shorter\n",
    "                        dist = abs(pos[i,j] - pos[k,j])\n",
    "                        if (pos[i,j] < pos[k,j])\n",
    "                            new_dist = abs(box_size + pos[i,j] - pos[k,j])\n",
    "                            if new_dist > dist\n",
    "                                dist = new_dist\n",
    "                                int_strength = -1*int_strength # Reverses direction of force\n",
    "                            end\n",
    "                        else\n",
    "                            new_dist = abs(box_size + pos[k,j] - pos[i,j])\n",
    "                            if new_dist > dist\n",
    "                                dist = new_dist\n",
    "                                int_strength = -1*int_strength # Reverses direction of force\n",
    "                            end\n",
    "                        end\n",
    "                        else # Otherwise, just regular distance\n",
    "                        dist = abs(pos[i,j] - pos[k,j])\n",
    "                    end\n",
    "                    \n",
    "                    force[i,j] += int_strength / dist^2 # 1/r^2 interaction\n",
    "                end\n",
    "            end\n",
    "        end\n",
    "    end\n",
    "    \n",
    "    return force\n",
    "end"
   ]
  },
  {
   "cell_type": "code",
   "execution_count": 6,
   "metadata": {},
   "outputs": [
    {
     "data": {
      "text/plain": [
       "write_output (generic function with 1 method)"
      ]
     },
     "execution_count": 6,
     "metadata": {},
     "output_type": "execute_result"
    }
   ],
   "source": [
    "# Write each variable to its own output file in current diretory\n",
    "# May need to add more imfo if want to restart\n",
    "\n",
    "function write_output(part_num, dim, part_types, interaction_params, mass_parts, dt, saved_positions, saved_velocities, saved_accelerations, saved_forces) \n",
    "    writedlm(\"part_num.txt\", part_num)\n",
    "    writedlm(\"dim.txt\", dim)\n",
    "    writedlm(\"part_types.txt\", part_types)\n",
    "    writedlm(\"interaction_params.txt\", interaction_params)\n",
    "    writedlm(\"mass_parts.txt\", mass_parts)\n",
    "    writedlm(\"dt.txt\", dt)\n",
    "    writedlm(\"saved_positions.txt\", saved_positions)\n",
    "    writedlm(\"saved_velocities.txt\", saved_velocities)\n",
    "    writedlm(\"saved_accelerations.txt\", saved_accelerations)\n",
    "    writedlm(\"saved_forces.txt\", saved_forces)\n",
    "end"
   ]
  },
  {
   "cell_type": "code",
   "execution_count": 7,
   "metadata": {},
   "outputs": [
    {
     "data": {
      "text/plain": [
       "main (generic function with 1 method)"
      ]
     },
     "execution_count": 7,
     "metadata": {},
     "output_type": "execute_result"
    }
   ],
   "source": [
    "# Main - where program executes\n",
    "# Convert to main(args) if convert to script\n",
    "# This is the part of the program that is timed\n",
    "\n",
    "function main()\n",
    "    \n",
    "    # Set up matrices to save positions, velocities, and accelerations into\n",
    "    num_pos = floor(Int, number_of_steps/save_interval)+1 # Number of positions to save\n",
    "    saved_positions = zeros(num_pos, part_num, dim) # Save positions with specified frequency\n",
    "    if (save_data) # Only save vel, acc, and force if plan on saving to file\n",
    "        saved_velocities = zeros(num_pos, part_num, dim) # Save velocities with specified frequency\n",
    "        saved_accelerations = zeros(num_pos, part_num, dim) # Save accelerations with specified frequency\n",
    "        saved_forces = zeros(num_pos, part_num, dim) # Save forces with specified frequency\n",
    "    end\n",
    "    save_index = 1 # Keep track of index so can save positions with specified frequency\n",
    "\n",
    "    pos, vel, acc, part_types = initialize(part_num, dim, box_size, num_part_types) # Initialize\n",
    "    force = find_force(part_num, dim, pos, vel, acc, part_types, interaction_params, mass_parts) # Find forces on particles\n",
    "    saved_positions[save_index,:,:] = pos # Save position\n",
    "    if (save_data) # Only save vel, acc, and force if plan on saving to file\n",
    "        saved_velocities[save_index,:,:] = vel # Save velocity\n",
    "        saved_accelerations[save_index,:,:] = acc # Save accelerations\n",
    "        saved_forces[save_index,:,:] = force # Save forces\n",
    "    end\n",
    "    save_index += 1 # Increment index\n",
    "\n",
    "    for i = 1:number_of_steps\n",
    "        pos, vel, acc = step_update(part_num, dim, pos, vel, acc, force, part_types, mass_parts, dt, box_size, finite_box, periodic) # Update\n",
    "        force = find_force(part_num, dim, pos, vel, acc, part_types, interaction_params, mass_parts) # Find new forces\n",
    "\n",
    "        if (i % save_interval == 0) # If are saving this time step\n",
    "            saved_positions[save_index,:,:] = pos # Save position\n",
    "            if (save_data) # Only save vel, acc, and force if plan on saving to file\n",
    "                saved_velocities[save_index,:,:] = vel # Save velocity\n",
    "                saved_accelerations[save_index,:,:] = acc # Save accelerations\n",
    "                saved_forces[save_index,:,:] = force # Save forces\n",
    "            end\n",
    "            save_index += 1 # Increment index\n",
    "        end\n",
    "    end\n",
    "    \n",
    "    # Don't save data in benchmarking version\n",
    "    #=if (save_data) # If save data\n",
    "        write_output(part_num, dim, part_types, interaction_params, mass_parts, dt, saved_positions, saved_velocities, saved_accelerations, saved_forces)\n",
    "    end=#\n",
    "    \n",
    "end"
   ]
  },
  {
   "cell_type": "code",
   "execution_count": 8,
   "metadata": {
    "collapsed": true
   },
   "outputs": [],
   "source": [
    "using BenchmarkTools"
   ]
  },
  {
   "cell_type": "code",
   "execution_count": null,
   "metadata": {
    "collapsed": true
   },
   "outputs": [],
   "source": [
    "println(\"This program is using \", Threads.nthreads(), \" threads\")"
   ]
  },
  {
   "cell_type": "code",
   "execution_count": null,
   "metadata": {},
   "outputs": [
    {
     "name": "stdout",
     "output_type": "stream",
     "text": [
      "This program is using 1 processes\n",
      "This program is using 1 workers\n"
     ]
    }
   ],
   "source": [
    "# Use multiple processes / workers\n",
    "# Optimal number will depend on machine\n",
    "\n",
    "desired_num_procs = 1 # Try with just 1\n",
    "curr_num_procs = nprocs()\n",
    "\n",
    "if (curr_num_procs < desired_num_procs) # Use four processes\n",
    "    addprocs(desired_num_procs - curr_num_procs)\n",
    "end\n",
    "println(\"This program is using \", nprocs(), \" processes\")\n",
    "println(\"This program is using \", nworkers(), \" workers\")\n",
    "\n",
    "@benchmark main()"
   ]
  },
  {
   "cell_type": "code",
   "execution_count": null,
   "metadata": {},
   "outputs": [],
   "source": [
    "# Use multiple processes / workers\n",
    "# Optimal number will depend on machine\n",
    "\n",
    "desired_num_procs = 4 # Try with 4\n",
    "curr_num_procs = nprocs()\n",
    "\n",
    "if (curr_num_procs < desired_num_procs) # Use four processes\n",
    "    addprocs(desired_num_procs - curr_num_procs)\n",
    "end\n",
    "println(\"This program is using \", nprocs(), \" processes\")\n",
    "println(\"This program is using \", nworkers(), \" workers\")\n",
    "\n",
    "@benchmark main()"
   ]
  },
  {
   "cell_type": "code",
   "execution_count": null,
   "metadata": {
    "collapsed": true
   },
   "outputs": [],
   "source": [
    "# Use multiple processes / workers\n",
    "# Optimal number will depend on machine\n",
    "\n",
    "desired_num_procs = 10 # Try with 10\n",
    "curr_num_procs = nprocs()\n",
    "\n",
    "if (curr_num_procs < desired_num_procs) # Use four processes\n",
    "    addprocs(desired_num_procs - curr_num_procs)\n",
    "end\n",
    "println(\"This program is using \", nprocs(), \" processes\")\n",
    "println(\"This program is using \", nworkers(), \" workers\")\n",
    "\n",
    "@benchmark main()"
   ]
  }
 ],
 "metadata": {
  "kernelspec": {
   "display_name": "Julia 0.6.0",
   "language": "julia",
   "name": "julia-0.6"
  },
  "language_info": {
   "file_extension": ".jl",
   "mimetype": "application/julia",
   "name": "julia",
   "version": "0.6.0"
  }
 },
 "nbformat": 4,
 "nbformat_minor": 2
}
