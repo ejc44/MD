{
 "cells": [
  {
   "cell_type": "markdown",
   "metadata": {},
   "source": [
    "# Final Project for CS 6.338\n",
    "# Emily Crabb\n",
    "\n",
    "# Parallel molecular dyanmics simulation implementation in Julia\n",
    "\n",
    "# SharedArray Version - Chunks\n",
    "\n",
    "# Modified version for benchmarking (no saving outputs or plotting)"
   ]
  },
  {
   "cell_type": "markdown",
   "metadata": {},
   "source": [
    "This version of the SharedArray parallel MD implementation is designed for benchmarking the actual MD implementation.  As such, the parameters have been set so that the results are not written to a file.  The code has also been altered so that the particles' positions are no longer saved periodically, so the positions are also not plotted.  These changes were to ensure the timing captures the most essential functions of the program, namely updating the particles' positions, velocities, accelerations, and forces.  The program performs the timing with various numbers of workers.  However, Julia should still be started with mulitple threads to truly test the impact of implementing parallelism."
   ]
  },
  {
   "cell_type": "markdown",
   "metadata": {},
   "source": [
    "This version of the MD code uses SharedArrays to implement parallelism.  The positions, velocities, accelerations, and forces are all stored in SharedArrays that each thread can access.  Then, in both the step_update() and find_force() functions, the matrices are conceptually broken up and the work is distributed among the threads.  The program will also add workers depending on how many threads Julia is started with."
   ]
  },
  {
   "cell_type": "markdown",
   "metadata": {},
   "source": [
    "This notebook implements a parallel version of a molecular dynamics simulation in the Julia programming language.  Notable features include\n",
    "\n",
    "1) The option to read parameters (like number of simulation steps) and/or initial data (starting configuration: position, velocity, acceleration, forces) from external files.  These files must be in the same folder as this notebook and have the correct names (as specified in the code).\n",
    "\n",
    "2) The option to directly specify the parameters in the notebook.  Note: These parameters are all constants, so one must restart the kernel to redefine them.\n",
    "\n",
    "3) The option to save the parameters and output data to external files.\n",
    "\n",
    "4) The option to model finite and infinite systems.\n",
    "\n",
    "5) The ability to make finite systems periodic or non-periodic.\n",
    "\n",
    "6) If the initial data / configuration is not specified in a file, it can be generated in the code.  For example, the starting positions are random within the specified box size.  The user can modify any of the initial conditions by altering the initialize() function.  \n",
    "\n",
    "7) The user can also modify the form and strength of the forces by altering the find_forces() and gen_interaction() functions.\n",
    "\n",
    "8) For 2 or 3 dimensional simulations, the system can be visually displayed in a plot.  For non-Windows systems, the user can also use the Interact package to manipulate the plot to see the movement of the particles in the system over time.  One of the parameters sets the frequency with which the program saves the particles' positions.\n",
    "\n",
    "Note: The parameters are all constants, so one must restart the kernel to redefine them.\n",
    "\n",
    "Note: If the parameters and/or initial data is read from files, the program assumes the files are compatible (i.e. the dimension in the dim.txt file matches the dimensions of the particles' positions, etc.).  This is not a problem if the user is restarting from previously saved files but could be a problem if the user has made changes to the files."
   ]
  },
  {
   "cell_type": "markdown",
   "metadata": {},
   "source": [
    "References:\n",
    "\n",
    "For Julia help: The documentation at https://julialang.org/\n",
    "\n",
    "For calculating forces: Article titled \"Verlet integration\" at https://www.saylor.org/site/wp-content/uploads/2011/06/MA221-6.1.pdf\n",
    "\n",
    "For general layout of basic MD code: John Burkardt's website at https://people.sc.fsu.edu/~jburkardt/py_src/md/md.html"
   ]
  },
  {
   "cell_type": "code",
   "execution_count": 1,
   "metadata": {
    "collapsed": true
   },
   "outputs": [],
   "source": [
    "const params_from_file = true; # Whether input parameters should be read from file\n",
    "const data_from_file = true; # Whether starting data should be read from file\n",
    "const save_data = false; # Whether to save data to file so can restart"
   ]
  },
  {
   "cell_type": "code",
   "execution_count": 2,
   "metadata": {},
   "outputs": [
    {
     "data": {
      "text/plain": [
       "gen_interaction (generic function with 1 method)"
      ]
     },
     "execution_count": 2,
     "metadata": {},
     "output_type": "execute_result"
    }
   ],
   "source": [
    "# Generate strengths of interactions between particle types\n",
    "# Very simple but user could replace with anything they wanted\n",
    "\n",
    "function gen_interaction(num_part_types)\n",
    "    interaction_params = zeros(Float64, num_part_types,num_part_types)\n",
    "    for i=1:num_part_types\n",
    "        for j = 1:num_part_types\n",
    "            if (i==j) # Self-interaction is randomly repulsive\n",
    "                interaction_params[i,j] = -1*rand(Float64)\n",
    "            elseif (i<j) # Others randomly attractive\n",
    "                val = rand(Float64)\n",
    "                interaction_params[i,j] = val\n",
    "                interaction_params[j,i] = val\n",
    "            end\n",
    "        end        \n",
    "    end\n",
    "    \n",
    "    return interaction_params\n",
    "end"
   ]
  },
  {
   "cell_type": "code",
   "execution_count": 3,
   "metadata": {},
   "outputs": [
    {
     "data": {
      "text/plain": [
       "10"
      ]
     },
     "execution_count": 3,
     "metadata": {},
     "output_type": "execute_result"
    }
   ],
   "source": [
    "# Global constants \n",
    "# Read from file if specified\n",
    "\n",
    "if (params_from_file) # Read parameters in from file\n",
    "    const number_of_steps = Int(readdlm(\"number_of_steps.txt\")[1]); # Number of steps to execute in simulation\n",
    "    const dim = Int(readdlm(\"dim.txt\")[1]); # Dimensions of simulation\n",
    "    const box_size = readdlm(\"box_size.txt\")[1]; # Size of one side of box\n",
    "    const finite_box = readdlm(\"finite_box.txt\")[1]; # Whether box if finite or just where particles are initially placed\n",
    "    const periodic = readdlm(\"periodic.txt\")[1]; # Whether simulation is periodic\n",
    "    const part_num = Int(readdlm(\"part_num.txt\")[1]); # Number of particles in simulation\n",
    "    const dt = readdlm(\"dt.txt\")[1]; # Time step\n",
    "    const num_part_types = Int(readdlm(\"num_part_types.txt\")[1]); # Number of types of particles\n",
    "    const interaction_params = readdlm(\"interaction_params.txt\"); # Interations parameters for types of particles\n",
    "    const mass_parts = readdlm(\"mass_parts.txt\"); # Masses of types of particles\n",
    "    const save_interval = Int(readdlm(\"save_interval.txt\")[1]); # How often save position\n",
    "else # Assign parameter values here\n",
    "    const number_of_steps = 10000; # Number of steps to execute in simulation\n",
    "    const dim = 3; # Dimensions of simulation\n",
    "    const box_size = 100.0; # Size of one side of box\n",
    "    const finite_box = true; # Whether box if finite or just where particles are initially placed\n",
    "    const periodic = true; # Whether simulation is periodic\n",
    "    const part_num = 100; # Number of particles in simulation\n",
    "    const dt = 0.01; # Time step\n",
    "    const num_part_types = 2; # Number of types of particles\n",
    "    const interaction_params = gen_interaction(num_part_types); # Interations parameters for types of particles\n",
    "    const mass_parts = rand(Float64, num_part_types); # Masses of types of particles\n",
    "    const save_interval = 10; # How often save position\n",
    "end"
   ]
  },
  {
   "cell_type": "code",
   "execution_count": 4,
   "metadata": {},
   "outputs": [
    {
     "data": {
      "text/plain": [
       "initialize (generic function with 1 method)"
      ]
     },
     "execution_count": 4,
     "metadata": {},
     "output_type": "execute_result"
    }
   ],
   "source": [
    "# Initialize position, velocity, acceleration, and particle type\n",
    "# Can read in from file or generate in code\n",
    "# If generate in code, currently start with zero velocity and acceleration\n",
    "# If generate in code, currently start with random positions and randomly assigned particle types\n",
    "\n",
    "function initialize(part_num, dim, box_size, num_part_types, data_from_file)\n",
    "\n",
    "    if (data_from_file) # Read data in from file\n",
    "        part_types = readdlm(\"part_types.txt\", Int)\n",
    "        pos = readdlm(\"saved_positions.txt\")\n",
    "        pos = convert(SharedArray,pos) # Store in SharedArray so can use @parallel\n",
    "        vel = readdlm(\"saved_velocities.txt\")\n",
    "        vel = convert(SharedArray,vel) # Store in SharedArray so can use @parallel\n",
    "        acc = readdlm(\"saved_accelerations.txt\")\n",
    "        acc = convert(SharedArray,acc) # Store in SharedArray so can use @parallel\n",
    "    else # Generate data\n",
    "        pos = box_size*rand(Float64, part_num, dim) # Initialized to be randomly placed within a box\n",
    "        pos = convert(SharedArray,pos) # Store in SharedArray so can use @parallel\n",
    "\n",
    "        vel = zeros(Float64, part_num, dim) # Initialized to zero\n",
    "        vel = convert(SharedArray,vel) # Store in SharedArray so can use @parallel\n",
    "        acc = zeros(Float64, part_num, dim) # Initialized to zero\n",
    "        acc = convert(SharedArray,acc) # Store in SharedArray so can use @parallel\n",
    "\n",
    "        part_types = rand(1:num_part_types, part_num) # Randomly assign type of each particle\n",
    "    end\n",
    "        \n",
    "    return pos, vel, acc, part_types\n",
    "end"
   ]
  },
  {
   "cell_type": "code",
   "execution_count": 5,
   "metadata": {
    "collapsed": true
   },
   "outputs": [],
   "source": [
    "# Taken from Julia documentation\n",
    "\n",
    "@everywhere function myrange(q::SharedArray)\n",
    "    idx = indexpids(q)\n",
    "    if idx == 0 # This worker is not assigned a piece\n",
    "       return 1:0, 1:0\n",
    "    end\n",
    "    nchunks = length(procs(q))\n",
    "    splits = [round(Int, s) for s in linspace(0,size(q,2),nchunks+1)]\n",
    "    1:size(q,1), splits[idx]+1:splits[idx+1]\n",
    "end"
   ]
  },
  {
   "cell_type": "code",
   "execution_count": 6,
   "metadata": {
    "collapsed": true
   },
   "outputs": [],
   "source": [
    "@everywhere function step_update_chunk!(part_num, dim, pos, vel, acc, force, part_types, mass_parts, dt, box_size, finite_box, periodic)\n",
    "\n",
    "    for i in myrange(pos)[1] # For every particle\n",
    "        mass = mass_parts[part_types[i]]\n",
    "        for j in myrange(pos)[2] # For each dimension\n",
    "            pos[i,j] = pos[i,j] + vel[i,j]*dt + 0.5*acc[i,j]*dt^2 # x(t+Δt) = x(t) + v(t)Δt + 1/2*a(t)(Δt)^2\n",
    "            vel[i,j] = vel[i,j] + 0.5*(acc[i,j] + force[i,j]/mass)*dt # v(t+Δt) = v(t) + 1/2*(a(t)+a(t+Δt))Δt\n",
    "            acc[i,j] = force[i,j]/mass # a = F/m\n",
    "            \n",
    "            if (finite_box) # If finite box, check are still inside and correct if not\n",
    "                if (periodic) # For periodic, just change position to be in box\n",
    "                    if (pos[i,j] < 0) # If no longer in box\n",
    "                        pos[i,j] = box_size + (pos[i,j] % box_size)\n",
    "                    elseif (pos[i,j] > box_size) # If no longer in box\n",
    "                        pos[i,j] = pos[i,j] % box_size                        \n",
    "                    end\n",
    "                else # If not periodic, more complicated - reflects off walls\n",
    "                    if (pos[i,j] < 0) # If no longer in box\n",
    "                        pos[i,j] = -1*(pos[i,j])\n",
    "                    elseif (pos[i,j] > box_size) # If no longer in box\n",
    "                        pos[i,j] = box_size - pos[i,j]\n",
    "                    end\n",
    "                    vel[i,j] = -1*(vel[i,j])\n",
    "                    acc[i,j] = -1*(acc[i,j])\n",
    "                end\n",
    "            end\n",
    "        end\n",
    "    end\n",
    "        \n",
    "end"
   ]
  },
  {
   "cell_type": "code",
   "execution_count": 7,
   "metadata": {},
   "outputs": [
    {
     "data": {
      "text/plain": [
       "step_update (generic function with 1 method)"
      ]
     },
     "execution_count": 7,
     "metadata": {},
     "output_type": "execute_result"
    }
   ],
   "source": [
    "# Update position, velocity, and acceleration using Velocity Verlet Algorithm\n",
    "# Can deal with infinite and finite systems\n",
    "# For finite system, can be periodic or can reflect off walls\n",
    "\n",
    "function step_update(part_num, dim, pos, vel, acc, force, part_types, mass_parts, dt, box_size, finite_box, periodic)\n",
    "    \n",
    "    @sync begin\n",
    "        for p in procs(pos)\n",
    "            @async remotecall_wait(step_update_chunk!, p, part_num, dim, pos, vel, acc, force, part_types, mass_parts, dt, box_size, finite_box, periodic)\n",
    "        end\n",
    "    end\n",
    "    \n",
    "    # return pos, vel, acc # No need to return b/c is passed by reference\n",
    "end"
   ]
  },
  {
   "cell_type": "code",
   "execution_count": 8,
   "metadata": {
    "collapsed": true
   },
   "outputs": [],
   "source": [
    "@everywhere function find_force_chunk!(part_num, dim, pos, vel, acc, part_types, interaction_params, mass_parts, periodic, box_size, force)\n",
    "    \n",
    "    for i in myrange(pos)[1] # For every particle\n",
    "        mass = mass_parts[part_types[i]]\n",
    "        for k = 1:part_num # Contribution from every other particle\n",
    "            if (i != k) # No self-interaction\n",
    "                for j in myrange(pos)[2] # For each dimension\n",
    "                    int_strength = interaction_params[part_types[i],part_types[k]] # Strength of interaction between particles\n",
    "                    if (pos[i,j] > pos[k,j])\n",
    "                       int_strength = -1*int_strength # Reverses direction of force if positions flopped\n",
    "                    end\n",
    "\n",
    "                    # Find distance between particles\n",
    "                    dist = 0.0\n",
    "                    if (periodic) # If periodic, check whether a periodic distance is shorter\n",
    "                        dist = abs(pos[i,j] - pos[k,j])\n",
    "                        if (pos[i,j] < pos[k,j])\n",
    "                            new_dist = abs(box_size + pos[i,j] - pos[k,j])\n",
    "                            if new_dist > dist\n",
    "                                dist = new_dist\n",
    "                                int_strength = -1*int_strength # Reverses direction of force\n",
    "                            end\n",
    "                        else\n",
    "                            new_dist = abs(box_size + pos[k,j] - pos[i,j])\n",
    "                            if new_dist > dist\n",
    "                                dist = new_dist\n",
    "                                int_strength = -1*int_strength # Reverses direction of force\n",
    "                            end\n",
    "                        end\n",
    "                        else # Otherwise, just regular distance\n",
    "                        dist = abs(pos[i,j] - pos[k,j])\n",
    "                    end\n",
    "\n",
    "                    force[i,j] += int_strength / dist^2 # 1/r^2 interaction\n",
    "                end\n",
    "            end\n",
    "        end\n",
    "    end\n",
    "     \n",
    "end"
   ]
  },
  {
   "cell_type": "code",
   "execution_count": 9,
   "metadata": {},
   "outputs": [
    {
     "data": {
      "text/plain": [
       "find_force (generic function with 1 method)"
      ]
     },
     "execution_count": 9,
     "metadata": {},
     "output_type": "execute_result"
    }
   ],
   "source": [
    "# Find force on each particle\n",
    "# 1/r^2 interactions: Is very simple but user can replace with anything they want\n",
    "\n",
    "function find_force(part_num, dim, pos, vel, acc, part_types, interaction_params, mass_parts, periodic, box_size)\n",
    "    \n",
    "    #force = zeros(part_num, dim)\n",
    "    #force = convert(SharedArray,force)\n",
    "    \n",
    "    force = SharedArray{Float64,2}(part_num,dim) # Store forces in SharedArray so can use @parallel\n",
    "    \n",
    "    @sync begin\n",
    "        for p in procs(pos)\n",
    "            @async remotecall_wait(find_force_chunk!, p, part_num, dim, pos, vel, acc, part_types, interaction_params, mass_parts, periodic, box_size, force)\n",
    "        end\n",
    "    end\n",
    "\n",
    "    return force\n",
    "end"
   ]
  },
  {
   "cell_type": "code",
   "execution_count": 10,
   "metadata": {},
   "outputs": [
    {
     "data": {
      "text/plain": [
       "write_output (generic function with 1 method)"
      ]
     },
     "execution_count": 10,
     "metadata": {},
     "output_type": "execute_result"
    }
   ],
   "source": [
    "# Write each variable to its own output file in current diretory\n",
    "# Decided to write each variable to own file because is very easy to read values in and restart\n",
    "\n",
    "function write_output(number_of_steps, dim, box_size, finite_box, periodic, part_num, dt, num_part_types, interaction_params, mass_parts, save_interval, part_types, saved_positions, saved_velocities, saved_accelerations, saved_forces) \n",
    "    writedlm(\"number_of_steps.txt\", number_of_steps)\n",
    "    writedlm(\"dim.txt\", dim)\n",
    "    writedlm(\"box_size.txt\", box_size)\n",
    "    writedlm(\"finite_box.txt\", finite_box)\n",
    "    writedlm(\"periodic.txt\", periodic)\n",
    "    writedlm(\"part_num.txt\", part_num)\n",
    "    writedlm(\"dt.txt\", dt)\n",
    "    writedlm(\"num_part_types.txt\", num_part_types)\n",
    "    writedlm(\"interaction_params.txt\", interaction_params)\n",
    "    writedlm(\"mass_parts.txt\", mass_parts)\n",
    "    writedlm(\"save_interval.txt\", save_interval)\n",
    "    writedlm(\"part_types.txt\", part_types)\n",
    "    writedlm(\"saved_positions.txt\", saved_positions[size(saved_positions,1),:,:])\n",
    "    writedlm(\"saved_velocities.txt\", saved_velocities[size(saved_velocities,1),:,:])\n",
    "    writedlm(\"saved_accelerations.txt\", saved_accelerations[size(saved_accelerations,1),:,:])\n",
    "    writedlm(\"saved_forces.txt\", saved_forces[size(saved_forces,1),:,:])\n",
    "end"
   ]
  },
  {
   "cell_type": "code",
   "execution_count": 11,
   "metadata": {},
   "outputs": [
    {
     "data": {
      "text/plain": [
       "main (generic function with 1 method)"
      ]
     },
     "execution_count": 11,
     "metadata": {},
     "output_type": "execute_result"
    }
   ],
   "source": [
    "# Main body of program where positions, velocities, accelerations, and forces are updated\n",
    "# This is the part of the program that is timed\n",
    "\n",
    "function main(number_of_steps, part_num, dim, pos, vel, acc, force, part_types, mass_parts, dt, box_size, finite_box, periodic, interaction_params)\n",
    "\n",
    "    for i = 1:number_of_steps\n",
    "        step_update(part_num, dim, pos, vel, acc, force, part_types, mass_parts, dt, box_size, finite_box, periodic) # Update\n",
    "        force = find_force(part_num, dim, pos, vel, acc, part_types, interaction_params, mass_parts, periodic, box_size) # Find new forces\n",
    "    end\n",
    "    \n",
    "end"
   ]
  },
  {
   "cell_type": "code",
   "execution_count": 12,
   "metadata": {
    "collapsed": true
   },
   "outputs": [],
   "source": [
    "using BenchmarkTools"
   ]
  },
  {
   "cell_type": "code",
   "execution_count": 13,
   "metadata": {},
   "outputs": [
    {
     "name": "stdout",
     "output_type": "stream",
     "text": [
      "This program is using 8 threads\n"
     ]
    }
   ],
   "source": [
    "println(\"This program is using \", Threads.nthreads(), \" threads\")"
   ]
  },
  {
   "cell_type": "code",
   "execution_count": 14,
   "metadata": {},
   "outputs": [
    {
     "name": "stdout",
     "output_type": "stream",
     "text": [
      "This program is using 1 processes\n",
      "This program is using 1 workers\n"
     ]
    },
    {
     "data": {
      "text/plain": [
       "BenchmarkTools.Trial: \n",
       "  memory estimate:  89.44 GiB\n",
       "  allocs estimate:  1000371688\n",
       "  --------------\n",
       "  minimum time:     414.588 s (1.57% GC)\n",
       "  median time:      414.588 s (1.57% GC)\n",
       "  mean time:        414.588 s (1.57% GC)\n",
       "  maximum time:     414.588 s (1.57% GC)\n",
       "  --------------\n",
       "  samples:          1\n",
       "  evals/sample:     1"
      ]
     },
     "execution_count": 14,
     "metadata": {},
     "output_type": "execute_result"
    }
   ],
   "source": [
    "# Use multiple processes / workers\n",
    "# Optimal number will depend on machine\n",
    "\n",
    "desired_num_procs = 1 # Try with just 1\n",
    "curr_num_procs = nprocs()\n",
    "\n",
    "if (curr_num_procs < desired_num_procs) # Use four processes\n",
    "    addprocs(desired_num_procs - curr_num_procs)\n",
    "end\n",
    "println(\"This program is using \", nprocs(), \" processes\")\n",
    "println(\"This program is using \", nworkers(), \" workers\")\n",
    "\n",
    "# Initialization\n",
    "pos, vel, acc, part_types = initialize(part_num, dim, box_size, num_part_types, data_from_file) # Initialize\n",
    "if (data_from_file)\n",
    "    force = readdlm(\"saved_forces.txt\")\n",
    "else\n",
    "    force = find_force(part_num, dim, pos, vel, acc, part_types, interaction_params, mass_parts, periodic, box_size) # Find forces on particles\n",
    "end\n",
    "\n",
    "# Benchmarking\n",
    "@benchmark main(number_of_steps, part_num, dim, pos, vel, acc, force, part_types, mass_parts, dt, box_size, finite_box, periodic, interaction_params)"
   ]
  },
  {
   "cell_type": "code",
   "execution_count": 15,
   "metadata": {},
   "outputs": [
    {
     "data": {
      "text/plain": [
       "3-element Array{Int64,1}:\n",
       " 2\n",
       " 3\n",
       " 4"
      ]
     },
     "execution_count": 15,
     "metadata": {},
     "output_type": "execute_result"
    }
   ],
   "source": [
    "# Use multiple processes / workers\n",
    "# Optimal number will depend on machine\n",
    "\n",
    "desired_num_procs = 4 # Try with 4\n",
    "curr_num_procs = nprocs()\n",
    "\n",
    "if (curr_num_procs < desired_num_procs) # Use four processes\n",
    "    addprocs(desired_num_procs - curr_num_procs);\n",
    "end"
   ]
  },
  {
   "cell_type": "code",
   "execution_count": 16,
   "metadata": {
    "collapsed": true
   },
   "outputs": [],
   "source": [
    "# Taken from Julia documentation\n",
    "\n",
    "@everywhere function myrange(q::SharedArray)\n",
    "    idx = indexpids(q)\n",
    "    if idx == 0 # This worker is not assigned a piece\n",
    "       return 1:0, 1:0\n",
    "    end\n",
    "    nchunks = length(procs(q))\n",
    "    splits = [round(Int, s) for s in linspace(0,size(q,2),nchunks+1)]\n",
    "    1:size(q,1), splits[idx]+1:splits[idx+1]\n",
    "end"
   ]
  },
  {
   "cell_type": "code",
   "execution_count": 17,
   "metadata": {
    "collapsed": true
   },
   "outputs": [],
   "source": [
    "@everywhere function step_update_chunk!(part_num, dim, pos, vel, acc, force, part_types, mass_parts, dt, box_size, finite_box, periodic)\n",
    "\n",
    "    for i in myrange(pos)[1] # For every particle\n",
    "        mass = mass_parts[part_types[i]]\n",
    "        for j in myrange(pos)[2] # For each dimension\n",
    "            pos[i,j] = pos[i,j] + vel[i,j]*dt + 0.5*acc[i,j]*dt^2 # x(t+Δt) = x(t) + v(t)Δt + 1/2*a(t)(Δt)^2\n",
    "            vel[i,j] = vel[i,j] + 0.5*(acc[i,j] + force[i,j]/mass)*dt # v(t+Δt) = v(t) + 1/2*(a(t)+a(t+Δt))Δt\n",
    "            acc[i,j] = force[i,j]/mass # a = F/m\n",
    "            \n",
    "            if (finite_box) # If finite box, check are still inside and correct if not\n",
    "                if (periodic) # For periodic, just change position to be in box\n",
    "                    if (pos[i,j] < 0) # If no longer in box\n",
    "                        pos[i,j] = box_size + (pos[i,j] % box_size)\n",
    "                    elseif (pos[i,j] > box_size) # If no longer in box\n",
    "                        pos[i,j] = pos[i,j] % box_size                        \n",
    "                    end\n",
    "                else # If not periodic, more complicated - reflects off walls\n",
    "                    if (pos[i,j] < 0) # If no longer in box\n",
    "                        pos[i,j] = -1*(pos[i,j])\n",
    "                    elseif (pos[i,j] > box_size) # If no longer in box\n",
    "                        pos[i,j] = box_size - pos[i,j]\n",
    "                    end\n",
    "                    vel[i,j] = -1*(vel[i,j])\n",
    "                    acc[i,j] = -1*(acc[i,j])\n",
    "                end\n",
    "            end\n",
    "        end\n",
    "    end\n",
    "        \n",
    "end"
   ]
  },
  {
   "cell_type": "code",
   "execution_count": 18,
   "metadata": {
    "collapsed": true
   },
   "outputs": [],
   "source": [
    "@everywhere function find_force_chunk!(part_num, dim, pos, vel, acc, part_types, interaction_params, mass_parts, periodic, box_size, force)\n",
    "    \n",
    "    for i in myrange(pos)[1] # For every particle\n",
    "        mass = mass_parts[part_types[i]]\n",
    "        for k = 1:part_num # Contribution from every other particle\n",
    "            if (i != k) # No self-interaction\n",
    "                for j in myrange(pos)[2] # For each dimension\n",
    "                    int_strength = interaction_params[part_types[i],part_types[k]] # Strength of interaction between particles\n",
    "                    if (pos[i,j] > pos[k,j])\n",
    "                       int_strength = -1*int_strength # Reverses direction of force if positions flopped\n",
    "                    end\n",
    "\n",
    "                    # Find distance between particles\n",
    "                    dist = 0.0\n",
    "                    if (periodic) # If periodic, check whether a periodic distance is shorter\n",
    "                        dist = abs(pos[i,j] - pos[k,j])\n",
    "                        if (pos[i,j] < pos[k,j])\n",
    "                            new_dist = abs(box_size + pos[i,j] - pos[k,j])\n",
    "                            if new_dist > dist\n",
    "                                dist = new_dist\n",
    "                                int_strength = -1*int_strength # Reverses direction of force\n",
    "                            end\n",
    "                        else\n",
    "                            new_dist = abs(box_size + pos[k,j] - pos[i,j])\n",
    "                            if new_dist > dist\n",
    "                                dist = new_dist\n",
    "                                int_strength = -1*int_strength # Reverses direction of force\n",
    "                            end\n",
    "                        end\n",
    "                        else # Otherwise, just regular distance\n",
    "                        dist = abs(pos[i,j] - pos[k,j])\n",
    "                    end\n",
    "\n",
    "                    force[i,j] += int_strength / dist^2 # 1/r^2 interaction\n",
    "                end\n",
    "            end\n",
    "        end\n",
    "    end\n",
    "     \n",
    "end"
   ]
  },
  {
   "cell_type": "code",
   "execution_count": 19,
   "metadata": {},
   "outputs": [
    {
     "name": "stdout",
     "output_type": "stream",
     "text": [
      "This program is using 4 processes\n",
      "This program is using 3 workers\n"
     ]
    },
    {
     "data": {
      "text/plain": [
       "BenchmarkTools.Trial: \n",
       "  memory estimate:  175.00 MiB\n",
       "  allocs estimate:  2002945\n",
       "  --------------\n",
       "  minimum time:     555.314 s (0.00% GC)\n",
       "  median time:      555.314 s (0.00% GC)\n",
       "  mean time:        555.314 s (0.00% GC)\n",
       "  maximum time:     555.314 s (0.00% GC)\n",
       "  --------------\n",
       "  samples:          1\n",
       "  evals/sample:     1"
      ]
     },
     "execution_count": 19,
     "metadata": {},
     "output_type": "execute_result"
    }
   ],
   "source": [
    "println(\"This program is using \", nprocs(), \" processes\")\n",
    "println(\"This program is using \", nworkers(), \" workers\")\n",
    "\n",
    "# Initialization\n",
    "pos, vel, acc, part_types = initialize(part_num, dim, box_size, num_part_types, data_from_file) # Initialize\n",
    "if (data_from_file)\n",
    "    force = readdlm(\"saved_forces.txt\")\n",
    "else\n",
    "    force = find_force(part_num, dim, pos, vel, acc, part_types, interaction_params, mass_parts, periodic, box_size) # Find forces on particles\n",
    "end\n",
    "\n",
    "# Benchmarking\n",
    "@benchmark main(number_of_steps, part_num, dim, pos, vel, acc, force, part_types, mass_parts, dt, box_size, finite_box, periodic, interaction_params)"
   ]
  },
  {
   "cell_type": "code",
   "execution_count": 20,
   "metadata": {},
   "outputs": [
    {
     "data": {
      "text/plain": [
       "6-element Array{Int64,1}:\n",
       "  5\n",
       "  6\n",
       "  7\n",
       "  8\n",
       "  9\n",
       " 10"
      ]
     },
     "execution_count": 20,
     "metadata": {},
     "output_type": "execute_result"
    }
   ],
   "source": [
    "# Use multiple processes / workers\n",
    "# Optimal number will depend on machine\n",
    "\n",
    "desired_num_procs = 10 # Try with 10\n",
    "curr_num_procs = nprocs()\n",
    "\n",
    "if (curr_num_procs < desired_num_procs) # Use 10 processes\n",
    "    addprocs(desired_num_procs - curr_num_procs);\n",
    "end"
   ]
  },
  {
   "cell_type": "code",
   "execution_count": 21,
   "metadata": {
    "collapsed": true
   },
   "outputs": [],
   "source": [
    "# Taken from Julia documentation\n",
    "\n",
    "@everywhere function myrange(q::SharedArray)\n",
    "    idx = indexpids(q)\n",
    "    if idx == 0 # This worker is not assigned a piece\n",
    "       return 1:0, 1:0\n",
    "    end\n",
    "    nchunks = length(procs(q))\n",
    "    splits = [round(Int, s) for s in linspace(0,size(q,2),nchunks+1)]\n",
    "    1:size(q,1), splits[idx]+1:splits[idx+1]\n",
    "end"
   ]
  },
  {
   "cell_type": "code",
   "execution_count": 22,
   "metadata": {
    "collapsed": true
   },
   "outputs": [],
   "source": [
    "@everywhere function step_update_chunk!(part_num, dim, pos, vel, acc, force, part_types, mass_parts, dt, box_size, finite_box, periodic)\n",
    "\n",
    "    for i in myrange(pos)[1] # For every particle\n",
    "        mass = mass_parts[part_types[i]]\n",
    "        for j in myrange(pos)[2] # For each dimension\n",
    "            pos[i,j] = pos[i,j] + vel[i,j]*dt + 0.5*acc[i,j]*dt^2 # x(t+Δt) = x(t) + v(t)Δt + 1/2*a(t)(Δt)^2\n",
    "            vel[i,j] = vel[i,j] + 0.5*(acc[i,j] + force[i,j]/mass)*dt # v(t+Δt) = v(t) + 1/2*(a(t)+a(t+Δt))Δt\n",
    "            acc[i,j] = force[i,j]/mass # a = F/m\n",
    "            \n",
    "            if (finite_box) # If finite box, check are still inside and correct if not\n",
    "                if (periodic) # For periodic, just change position to be in box\n",
    "                    if (pos[i,j] < 0) # If no longer in box\n",
    "                        pos[i,j] = box_size + (pos[i,j] % box_size)\n",
    "                    elseif (pos[i,j] > box_size) # If no longer in box\n",
    "                        pos[i,j] = pos[i,j] % box_size                        \n",
    "                    end\n",
    "                else # If not periodic, more complicated - reflects off walls\n",
    "                    if (pos[i,j] < 0) # If no longer in box\n",
    "                        pos[i,j] = -1*(pos[i,j])\n",
    "                    elseif (pos[i,j] > box_size) # If no longer in box\n",
    "                        pos[i,j] = box_size - pos[i,j]\n",
    "                    end\n",
    "                    vel[i,j] = -1*(vel[i,j])\n",
    "                    acc[i,j] = -1*(acc[i,j])\n",
    "                end\n",
    "            end\n",
    "        end\n",
    "    end\n",
    "        \n",
    "end"
   ]
  },
  {
   "cell_type": "code",
   "execution_count": 23,
   "metadata": {
    "collapsed": true
   },
   "outputs": [],
   "source": [
    "@everywhere function find_force_chunk!(part_num, dim, pos, vel, acc, part_types, interaction_params, mass_parts, periodic, box_size, force)\n",
    "    \n",
    "    for i in myrange(pos)[1] # For every particle\n",
    "        mass = mass_parts[part_types[i]]\n",
    "        for k = 1:part_num # Contribution from every other particle\n",
    "            if (i != k) # No self-interaction\n",
    "                for j in myrange(pos)[2] # For each dimension\n",
    "                    int_strength = interaction_params[part_types[i],part_types[k]] # Strength of interaction between particles\n",
    "                    if (pos[i,j] > pos[k,j])\n",
    "                       int_strength = -1*int_strength # Reverses direction of force if positions flopped\n",
    "                    end\n",
    "\n",
    "                    # Find distance between particles\n",
    "                    dist = 0.0\n",
    "                    if (periodic) # If periodic, check whether a periodic distance is shorter\n",
    "                        dist = abs(pos[i,j] - pos[k,j])\n",
    "                        if (pos[i,j] < pos[k,j])\n",
    "                            new_dist = abs(box_size + pos[i,j] - pos[k,j])\n",
    "                            if new_dist > dist\n",
    "                                dist = new_dist\n",
    "                                int_strength = -1*int_strength # Reverses direction of force\n",
    "                            end\n",
    "                        else\n",
    "                            new_dist = abs(box_size + pos[k,j] - pos[i,j])\n",
    "                            if new_dist > dist\n",
    "                                dist = new_dist\n",
    "                                int_strength = -1*int_strength # Reverses direction of force\n",
    "                            end\n",
    "                        end\n",
    "                        else # Otherwise, just regular distance\n",
    "                        dist = abs(pos[i,j] - pos[k,j])\n",
    "                    end\n",
    "\n",
    "                    force[i,j] += int_strength / dist^2 # 1/r^2 interaction\n",
    "                end\n",
    "            end\n",
    "        end\n",
    "    end\n",
    "     \n",
    "end"
   ]
  },
  {
   "cell_type": "code",
   "execution_count": null,
   "metadata": {},
   "outputs": [
    {
     "name": "stdout",
     "output_type": "stream",
     "text": [
      "This program is using 10 processes\n",
      "This program is using 9 workers\n"
     ]
    }
   ],
   "source": [
    "println(\"This program is using \", nprocs(), \" processes\")\n",
    "println(\"This program is using \", nworkers(), \" workers\")\n",
    "\n",
    "# Initialization\n",
    "pos, vel, acc, part_types = initialize(part_num, dim, box_size, num_part_types, data_from_file) # Initialize\n",
    "if (data_from_file)\n",
    "    force = readdlm(\"saved_forces.txt\")\n",
    "else\n",
    "    force = find_force(part_num, dim, pos, vel, acc, part_types, interaction_params, mass_parts, periodic, box_size) # Find forces on particles\n",
    "end\n",
    "\n",
    "# Benchmarking\n",
    "@benchmark main(number_of_steps, part_num, dim, pos, vel, acc, force, part_types, mass_parts, dt, box_size, finite_box, periodic, interaction_params)"
   ]
  }
 ],
 "metadata": {
  "kernelspec": {
   "display_name": "Julia 0.6.0",
   "language": "julia",
   "name": "julia-0.6"
  },
  "language_info": {
   "file_extension": ".jl",
   "mimetype": "application/julia",
   "name": "julia",
   "version": "0.6.0"
  }
 },
 "nbformat": 4,
 "nbformat_minor": 2
}
